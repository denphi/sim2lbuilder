{
 "cells": [
  {
   "cell_type": "code",
   "execution_count": 1,
   "metadata": {
    "ExecuteTime": {
     "end_time": "2023-02-22T17:29:48.870952Z",
     "start_time": "2023-02-22T17:29:42.751027Z"
    }
   },
   "outputs": [],
   "source": [
    "from sim2lbuilder import WidgetConstructor, GetSimtoolDefaultSchema"
   ]
  },
  {
   "cell_type": "code",
   "execution_count": 2,
   "metadata": {
    "ExecuteTime": {
     "end_time": "2023-02-22T17:29:48.990601Z",
     "start_time": "2023-02-22T17:29:48.890189Z"
    }
   },
   "outputs": [
    {
     "name": "stderr",
     "output_type": "stream",
     "text": [
      "Parameter type Text does not have options attribute.\n",
      "Parameter type Text does not have options attribute.\n",
      "Parameter type Text does not have options attribute.\n",
      "Parameter type Text does not have options attribute.\n",
      "Parameter type Text does not have options attribute.\n",
      "Parameter type Text does not have options attribute.\n"
     ]
    }
   ],
   "source": [
    "schema = GetSimtoolDefaultSchema(\"polymerxtal\")"
   ]
  },
  {
   "cell_type": "code",
   "execution_count": 3,
   "metadata": {
    "ExecuteTime": {
     "end_time": "2023-02-22T17:29:54.800740Z",
     "start_time": "2023-02-22T17:29:54.768617Z"
    }
   },
   "outputs": [
    {
     "data": {
      "text/plain": [
       "{'inputs': {'polymer_type': {'type': 'Text',\n",
       "   'description': 'Select the polymer type.',\n",
       "   'value': 'PAN'},\n",
       "  'helicity': {'type': 'Text',\n",
       "   'description': 'Select the helicity of the polymer chain.',\n",
       "   'value': 'Helix 2*3/1'},\n",
       "  'monomers': {'type': 'BoundedFloatText',\n",
       "   'description': 'Number of monomers',\n",
       "   'min': 1,\n",
       "   'max': 100,\n",
       "   'value': 30},\n",
       "  'tacticity': {'type': 'Text',\n",
       "   'description': 'Select the tacticity of the polymer chain.',\n",
       "   'value': 'isotactic'},\n",
       "  'chiriality': {'type': 'Text',\n",
       "   'description': 'Select the chiriality of the polymer chain.',\n",
       "   'value': 'right'},\n",
       "  'head_tail_defect_ratio': {'type': 'BoundedFloatText',\n",
       "   'description': 'Ratio of head-to-head and tail-to-tail connections',\n",
       "   'min': 0,\n",
       "   'max': 1,\n",
       "   'value': 0},\n",
       "  'configs': {'type': 'BoundedFloatText',\n",
       "   'description': 'Number of attempts to find a configuration',\n",
       "   'min': 1,\n",
       "   'max': 5000,\n",
       "   'value': 30},\n",
       "  'infinite': {'type': 'ToggleButton',\n",
       "   'description': 'Whether to create periodic infinite chain',\n",
       "   'value': True},\n",
       "  'create_lmpdata_file': {'type': 'ToggleButton',\n",
       "   'description': 'Whether to create corresponding LAMMPS data file or not',\n",
       "   'value': True},\n",
       "  'create_lmpinput_file': {'type': 'ToggleButton',\n",
       "   'description': 'Whether to create corresponding LAMMPS input File or not',\n",
       "   'value': True},\n",
       "  'ffield': {'type': 'Text',\n",
       "   'description': 'Force field',\n",
       "   'value': 'Dreiding'},\n",
       "  'bondscale': {'type': 'BoundedFloatText',\n",
       "   'description': 'Applied to equilibrium bond lengths',\n",
       "   'min': 1,\n",
       "   'max': 2,\n",
       "   'value': 1.1},\n",
       "  'charge': {'type': 'Text',\n",
       "   'description': 'Charge equilibration method',\n",
       "   'value': 'Gasteiger'}},\n",
       " 'outputs': {'HelixName': {'type': 'Output'},\n",
       "  'PDBview': {'type': 'Output'},\n",
       "  'PDB': {'type': 'Output'},\n",
       "  'LAMMPSDataFile': {'type': 'Output'},\n",
       "  'Datafile_warnings': {'type': 'Output'},\n",
       "  'X6paircoeffs': {'type': 'Output'},\n",
       "  'LAMMPSinputfile': {'type': 'Output'}},\n",
       " 'layout': {'type': 'HBox',\n",
       "  'children': {'inputs': {'layout': {'width': 'auto'},\n",
       "    'type': 'VBox',\n",
       "    'children': {'input.polymer_type': None,\n",
       "     'input.helicity': None,\n",
       "     'input.monomers': None,\n",
       "     'input.tacticity': None,\n",
       "     'input.chiriality': None,\n",
       "     'input.head_tail_defect_ratio': None,\n",
       "     'input.configs': None,\n",
       "     'input.infinite': None,\n",
       "     'input.create_lmpdata_file': None,\n",
       "     'input.create_lmpinput_file': None,\n",
       "     'input.ffield': None,\n",
       "     'input.bondscale': None,\n",
       "     'input.charge': None}},\n",
       "   'outputs': {'type': 'VBox',\n",
       "    'children': {'button': {'type': 'Button',\n",
       "      'click': 'RunSimTool',\n",
       "      'description': 'Run SimTool'},\n",
       "     'container': {'type': 'Accordion',\n",
       "      'children': {'output.HelixName': None,\n",
       "       'output.PDBview': None,\n",
       "       'output.PDB': None,\n",
       "       'output.LAMMPSDataFile': None,\n",
       "       'output.Datafile_warnings': None,\n",
       "       'output.X6paircoeffs': None,\n",
       "       'output.LAMMPSinputfile': None},\n",
       "      'titles': {'HelixName': None,\n",
       "       'PDBview': None,\n",
       "       'PDB': None,\n",
       "       'LAMMPSDataFile': None,\n",
       "       'Datafile_warnings': None,\n",
       "       'X6paircoeffs': None,\n",
       "       'LAMMPSinputfile': None}}},\n",
       "    'layout': {'flex': '1'}}}}}"
      ]
     },
     "execution_count": 3,
     "metadata": {},
     "output_type": "execute_result"
    }
   ],
   "source": [
    "schema"
   ]
  },
  {
   "cell_type": "code",
   "execution_count": null,
   "metadata": {},
   "outputs": [],
   "source": [
    "schema[\"inputs\"][\"monomers\"][\"type\"] = \"IntSlider\" # Needed due to bad definition of the simtool\n",
    "schema[\"inputs\"][\"monomers\"][\"description\"] = \"Mydescription\"\n",
    "schema[\"inputs\"][\"myinputs\"] = {'type': 'IntSlider',\n",
    " 'description': 'Mydescription',\n",
    " 'value': 30,\n",
    " 'min': 1,\n",
    " 'max': 100,\n",
    " 'layout': {'width': 'auto'},\n",
    " 'style': {'description_width': 'initial'}}"
   ]
  },
  {
   "cell_type": "code",
   "execution_count": null,
   "metadata": {},
   "outputs": [],
   "source": [
    "schema[\"layout\"]['children']['inputs']['children']['myinputs'] = None"
   ]
  },
  {
   "cell_type": "code",
   "execution_count": null,
   "metadata": {
    "scrolled": false
   },
   "outputs": [],
   "source": [
    "def RunSimTool(widget, *kargs):\n",
    "    import simtool\n",
    "    import imolecule\n",
    "    stl = simtool.searchForSimTool(\"polymerxtal\")\n",
    "    inputs = simtool.getSimToolInputs(stl)\n",
    "    for i,w in widget.inputs.items():\n",
    "        inputs[i].value = w.value\n",
    "    r = simtool.Run(stl, inputs)\n",
    "    for outk, out in widget.outputs.items():\n",
    "        if outk == \"PDBview\":\n",
    "            with out:\n",
    "                pdbFile = r.read(outk, raw=True)\n",
    "                imolecule.draw(pdbFile[7:])\n",
    "        else:\n",
    "            with out:\n",
    "                print(r.read(outk))\n",
    "s = WidgetConstructor(schema)\n",
    "s.RunSimTool = RunSimTool\n",
    "s.assemble()\n",
    "s"
   ]
  },
  {
   "cell_type": "code",
   "execution_count": null,
   "metadata": {},
   "outputs": [],
   "source": [
    "import MyWidget"
   ]
  },
  {
   "cell_type": "code",
   "execution_count": null,
   "metadata": {},
   "outputs": [],
   "source": [
    "MyWidget.MyWidget()"
   ]
  },
  {
   "cell_type": "code",
   "execution_count": null,
   "metadata": {},
   "outputs": [],
   "source": []
  },
  {
   "cell_type": "code",
   "execution_count": null,
   "metadata": {},
   "outputs": [],
   "source": []
  }
 ],
 "metadata": {
  "kernelspec": {
   "display_name": "Python 3 (ipykernel)",
   "language": "python",
   "name": "python3"
  },
  "language_info": {
   "codemirror_mode": {
    "name": "ipython",
    "version": 3
   },
   "file_extension": ".py",
   "mimetype": "text/x-python",
   "name": "python",
   "nbconvert_exporter": "python",
   "pygments_lexer": "ipython3",
   "version": "3.8.10"
  },
  "toc": {
   "base_numbering": 1,
   "nav_menu": {},
   "number_sections": true,
   "sideBar": true,
   "skip_h1_title": false,
   "title_cell": "Table of Contents",
   "title_sidebar": "Contents",
   "toc_cell": false,
   "toc_position": {},
   "toc_section_display": true,
   "toc_window_display": false
  },
  "varInspector": {
   "cols": {
    "lenName": 16,
    "lenType": 16,
    "lenVar": 40
   },
   "kernels_config": {
    "python": {
     "delete_cmd_postfix": "",
     "delete_cmd_prefix": "del ",
     "library": "var_list.py",
     "varRefreshCmd": "print(var_dic_list())"
    },
    "r": {
     "delete_cmd_postfix": ") ",
     "delete_cmd_prefix": "rm(",
     "library": "var_list.r",
     "varRefreshCmd": "cat(var_dic_list()) "
    }
   },
   "types_to_exclude": [
    "module",
    "function",
    "builtin_function_or_method",
    "instance",
    "_Feature"
   ],
   "window_display": false
  }
 },
 "nbformat": 4,
 "nbformat_minor": 2
}
