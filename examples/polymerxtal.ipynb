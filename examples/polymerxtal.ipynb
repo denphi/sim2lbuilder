{
 "cells": [
  {
   "cell_type": "code",
   "execution_count": null,
   "metadata": {},
   "outputs": [],
   "source": [
    "from sim2lbuilder import WidgetConstructor, GetSimtoolDefaultSchema"
   ]
  },
  {
   "cell_type": "code",
   "execution_count": null,
   "metadata": {},
   "outputs": [],
   "source": [
    "schema = GetSimtoolDefaultSchema(\"polymerxtal\")"
   ]
  },
  {
   "cell_type": "code",
   "execution_count": null,
   "metadata": {},
   "outputs": [],
   "source": [
    "schema[\"inputs\"][\"monomers\"][\"type\"] = \"IntSlider\" # Needed due to bad definition of the simtool\n",
    "schema[\"inputs\"][\"monomers\"][\"description\"] = \"Mydescription\"\n",
    "schema[\"inputs\"][\"myinputs\"] = {'type': 'IntSlider',\n",
    " 'description': 'Mydescription',\n",
    " 'value': 30,\n",
    " 'min': 1,\n",
    " 'max': 100,\n",
    " 'layout': {'width': 'auto'},\n",
    " 'style': {'description_width': 'initial'}}"
   ]
  },
  {
   "cell_type": "code",
   "execution_count": null,
   "metadata": {},
   "outputs": [],
   "source": [
    "schema[\"layout\"]['children']['inputs']['children']['myinputs'] = None"
   ]
  },
  {
   "cell_type": "code",
   "execution_count": null,
   "metadata": {
    "scrolled": false
   },
   "outputs": [],
   "source": [
    "def RunSimTool(widget, *kargs):\n",
    "    import simtool\n",
    "    import imolecule\n",
    "    stl = simtool.searchForSimTool(\"polymerxtal\")\n",
    "    inputs = simtool.getSimToolInputs(stl)\n",
    "    for i,w in widget.inputs.items():\n",
    "        inputs[i].value = w.value\n",
    "    r = simtool.Run(stl, inputs)\n",
    "    for outk, out in widget.outputs.items():\n",
    "        if outk == \"PDBview\":\n",
    "            with out:\n",
    "                pdbFile = r.read(outk, raw=True)\n",
    "                imolecule.draw(pdbFile[7:])\n",
    "        else:\n",
    "            with out:\n",
    "                print(r.read(outk))\n",
    "s = WidgetConstructor(schema)\n",
    "s.RunSimTool = RunSimTool\n",
    "s.assemble()\n",
    "s"
   ]
  },
  {
   "cell_type": "code",
   "execution_count": null,
   "metadata": {},
   "outputs": [],
   "source": [
    "import MyWidget"
   ]
  },
  {
   "cell_type": "code",
   "execution_count": null,
   "metadata": {},
   "outputs": [],
   "source": [
    "MyWidget.MyWidget()"
   ]
  },
  {
   "cell_type": "code",
   "execution_count": null,
   "metadata": {},
   "outputs": [],
   "source": []
  },
  {
   "cell_type": "code",
   "execution_count": null,
   "metadata": {},
   "outputs": [],
   "source": []
  }
 ],
 "metadata": {
  "kernelspec": {
   "display_name": "Python 3",
   "language": "python",
   "name": "python3"
  },
  "language_info": {
   "codemirror_mode": {
    "name": "ipython",
    "version": 3
   },
   "file_extension": ".py",
   "mimetype": "text/x-python",
   "name": "python",
   "nbconvert_exporter": "python",
   "pygments_lexer": "ipython3",
   "version": "3.7.7"
  }
 },
 "nbformat": 4,
 "nbformat_minor": 2
}
