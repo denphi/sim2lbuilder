{
 "cells": [
  {
   "cell_type": "code",
   "execution_count": 1,
   "metadata": {},
   "outputs": [],
   "source": [
    "from sim2lbuilder import WidgetConstructor, GetSimtoolDefaultSchema"
   ]
  },
  {
   "cell_type": "code",
   "execution_count": 2,
   "metadata": {},
   "outputs": [
    {
     "name": "stderr",
     "output_type": "stream",
     "text": [
      "Parameter type List does not have desc attribute.\n",
      "Parameter type Number does not have desc attribute.\n",
      "Parameter type Number does not have desc attribute.\n",
      "Parameter type Number does not have desc attribute.\n",
      "Parameter type Number does not have desc attribute.\n",
      "Parameter type Number does not have desc attribute.\n",
      "Parameter type Number does not have desc attribute.\n",
      "Parameter type Number does not have desc attribute.\n",
      "Parameter type Text does not have desc attribute.\n",
      "Parameter type Text does not have options attribute.\n",
      "Parameter type Number does not have desc attribute.\n",
      "Parameter type Dict does not have desc attribute.\n",
      "Parameter type Number does not have desc attribute.\n",
      "Parameter type Number does not have desc attribute.\n",
      "Parameter type Number does not have desc attribute.\n",
      "Parameter type Number does not have desc attribute.\n",
      "Parameter type Number does not have desc attribute.\n",
      "Parameter type Text does not have desc attribute.\n",
      "Parameter type Number does not have desc attribute.\n",
      "Parameter type Number does not have unit attribute.\n",
      "Parameter type Number does not have desc attribute.\n",
      "Parameter type Number does not have desc attribute.\n",
      "Parameter type Number does not have desc attribute.\n",
      "Parameter type Number does not have desc attribute.\n",
      "Parameter type Number does not have desc attribute.\n",
      "Parameter type Number does not have desc attribute.\n",
      "Parameter type Number does not have desc attribute.\n",
      "Parameter type Number does not have desc attribute.\n",
      "Parameter type Number does not have desc attribute.\n",
      "Parameter type Number does not have desc attribute.\n",
      "Parameter type Number does not have desc attribute.\n",
      "Parameter type Number does not have desc attribute.\n",
      "Parameter type Number does not have desc attribute.\n",
      "Parameter type Image does not have desc attribute.\n",
      "Parameter type Array does not have desc attribute.\n",
      "Parameter type Text does not have desc attribute.\n",
      "Parameter type Array does not have desc attribute.\n",
      "Parameter type Array does not have desc attribute.\n",
      "Parameter type Array does not have desc attribute.\n",
      "Parameter type Array does not have desc attribute.\n"
     ]
    }
   ],
   "source": [
    "schema = GetSimtoolDefaultSchema(\"meltrccas\", outputs_layout=\"Tab\")"
   ]
  },
  {
   "cell_type": "code",
   "execution_count": 3,
   "metadata": {},
   "outputs": [],
   "source": [
    "schema[\"inputs\"][\"rand_seed\"][\"type\"] = 'BoundedIntText'\n",
    "schema[\"inputs\"][\"box_length\"][\"type\"] = 'BoundedIntText'\n",
    "schema[\"inputs\"][\"rand_seed\"][\"description\"] = 'Random seed'\n",
    "schema[\"inputs\"][\"time\"][\"type\"] = 'IntText'\n",
    "schema[\"inputs\"][\"velocity_seed\"][\"type\"] = 'BoundedIntText'"
   ]
  },
  {
   "cell_type": "code",
   "execution_count": 4,
   "metadata": {
    "scrolled": false
   },
   "outputs": [],
   "source": [
    "def RunSimTool(widget, *kargs):\n",
    "    import simtool\n",
    "    stl = simtool.searchForSimTool(\"meltrccas\")\n",
    "    inputs = simtool.getSimToolInputs(stl)\n",
    "    for i,w in widget.inputs.items():\n",
    "        inputs[i].value = w.value\n",
    "    r = simtool.Run(stl, inputs)\n",
    "    for outk, out in widget.outputs.items():\n",
    "        with out:\n",
    "            display(r.read(outk))\n",
    "s = WidgetConstructor(schema)\n",
    "s.RunSimTool = RunSimTool"
   ]
  },
  {
   "cell_type": "code",
   "execution_count": 5,
   "metadata": {
    "scrolled": false
   },
   "outputs": [
    {
     "data": {
      "application/vnd.jupyter.widget-view+json": {
       "model_id": "2c0963b65f3449e5b05a728c0cd47920",
       "version_major": 2,
       "version_minor": 0
      },
      "text/plain": [
       "WidgetConstructor(children=(HBox(children=(VBox(children=(ListSheet(children=(HTML(value=''), Textarea(value='…"
      ]
     },
     "metadata": {},
     "output_type": "display_data"
    },
    {
     "name": "stderr",
     "output_type": "stream",
     "text": [
      "Parameter type List does not have desc attribute.\n",
      "Parameter type Number does not have desc attribute.\n",
      "Parameter type Number does not have desc attribute.\n",
      "Parameter type Number does not have desc attribute.\n",
      "Parameter type Number does not have desc attribute.\n",
      "Parameter type Number does not have desc attribute.\n",
      "Parameter type Number does not have desc attribute.\n",
      "Parameter type Number does not have desc attribute.\n",
      "Parameter type Text does not have desc attribute.\n",
      "Parameter type Text does not have options attribute.\n",
      "Parameter type Number does not have desc attribute.\n",
      "Parameter type Dict does not have desc attribute.\n",
      "Parameter type Number does not have desc attribute.\n",
      "Parameter type Number does not have desc attribute.\n",
      "Parameter type Number does not have desc attribute.\n",
      "Parameter type Number does not have desc attribute.\n",
      "Parameter type Number does not have desc attribute.\n",
      "Parameter type Text does not have desc attribute.\n",
      "Parameter type Number does not have desc attribute.\n",
      "Parameter type Number does not have unit attribute.\n",
      "Parameter type Number does not have desc attribute.\n",
      "Parameter type Number does not have desc attribute.\n",
      "Parameter type Number does not have desc attribute.\n",
      "Parameter type Number does not have desc attribute.\n",
      "Parameter type Number does not have desc attribute.\n",
      "Parameter type Number does not have desc attribute.\n",
      "Parameter type Number does not have desc attribute.\n",
      "Parameter type Number does not have desc attribute.\n",
      "Parameter type Number does not have desc attribute.\n",
      "Parameter type Number does not have desc attribute.\n",
      "Parameter type Number does not have desc attribute.\n",
      "Parameter type Number does not have desc attribute.\n",
      "Parameter type Number does not have desc attribute.\n",
      "Parameter type Image does not have desc attribute.\n",
      "Parameter type Array does not have desc attribute.\n",
      "Parameter type Text does not have desc attribute.\n",
      "Parameter type Array does not have desc attribute.\n",
      "Parameter type Array does not have desc attribute.\n",
      "Parameter type Array does not have desc attribute.\n",
      "Parameter type Array does not have desc attribute.\n",
      "Parameter type List does not have desc attribute.\n",
      "Parameter type Number does not have desc attribute.\n",
      "Parameter type Number does not have desc attribute.\n",
      "Parameter type Number does not have desc attribute.\n",
      "Parameter type Number does not have desc attribute.\n",
      "Parameter type Number does not have desc attribute.\n",
      "Parameter type Number does not have desc attribute.\n",
      "Parameter type Number does not have desc attribute.\n",
      "Parameter type Text does not have desc attribute.\n",
      "Parameter type Text does not have options attribute.\n",
      "Parameter type Number does not have desc attribute.\n",
      "Parameter type Dict does not have desc attribute.\n",
      "Parameter type Number does not have desc attribute.\n",
      "Parameter type Number does not have desc attribute.\n",
      "Parameter type Number does not have desc attribute.\n",
      "Parameter type Number does not have desc attribute.\n",
      "Parameter type Number does not have desc attribute.\n",
      "Parameter type Text does not have desc attribute.\n",
      "Parameter type Number does not have desc attribute.\n",
      "Parameter type Number does not have unit attribute.\n"
     ]
    },
    {
     "name": "stdout",
     "output_type": "stream",
     "text": [
      "runname = 41ccad27afa2433bb9ddf063deaa9123\n",
      "outdir  = RUNS/41ccad27afa2433bb9ddf063deaa9123\n",
      "Checking for cached result\n"
     ]
    },
    {
     "name": "stderr",
     "output_type": "stream",
     "text": [
      "Parameter type List does not have desc attribute.\n",
      "Parameter type Number does not have desc attribute.\n",
      "Parameter type Number does not have desc attribute.\n",
      "Parameter type Number does not have desc attribute.\n",
      "Parameter type Number does not have desc attribute.\n",
      "Parameter type Number does not have desc attribute.\n",
      "Parameter type Number does not have desc attribute.\n",
      "Parameter type Number does not have desc attribute.\n",
      "Parameter type Text does not have desc attribute.\n",
      "Parameter type Text does not have options attribute.\n",
      "Parameter type Number does not have desc attribute.\n",
      "Parameter type Dict does not have desc attribute.\n",
      "Parameter type Number does not have desc attribute.\n",
      "Parameter type Number does not have desc attribute.\n",
      "Parameter type Number does not have desc attribute.\n",
      "Parameter type Number does not have desc attribute.\n",
      "Parameter type Number does not have desc attribute.\n",
      "Parameter type Text does not have desc attribute.\n",
      "Parameter type Number does not have desc attribute.\n",
      "Parameter type Number does not have unit attribute.\n"
     ]
    },
    {
     "name": "stdout",
     "output_type": "stream",
     "text": [
      "Found cached result = meltrccas/24/8982ab82bf98c961bf4bb750978dbda4da5c341c\n"
     ]
    },
    {
     "name": "stderr",
     "output_type": "stream",
     "text": [
      "Parameter type Number does not have desc attribute.\n",
      "Parameter type Number does not have desc attribute.\n",
      "Parameter type Number does not have desc attribute.\n",
      "Parameter type Number does not have desc attribute.\n",
      "Parameter type Number does not have desc attribute.\n",
      "Parameter type Number does not have desc attribute.\n",
      "Parameter type Number does not have desc attribute.\n",
      "Parameter type Number does not have desc attribute.\n",
      "Parameter type Number does not have desc attribute.\n",
      "Parameter type Number does not have desc attribute.\n",
      "Parameter type Number does not have desc attribute.\n",
      "Parameter type Number does not have desc attribute.\n",
      "Parameter type Number does not have desc attribute.\n",
      "Parameter type Image does not have desc attribute.\n",
      "Parameter type Array does not have desc attribute.\n",
      "Parameter type Text does not have desc attribute.\n",
      "Parameter type Array does not have desc attribute.\n",
      "Parameter type Array does not have desc attribute.\n",
      "Parameter type Array does not have desc attribute.\n",
      "Parameter type Array does not have desc attribute.\n"
     ]
    }
   ],
   "source": [
    "s._layout.children[0].layout.flex = \"1\"\n",
    "s._layout.children[1].layout.flex = \"2\"\n",
    "s.assemble()\n",
    "s"
   ]
  },
  {
   "cell_type": "code",
   "execution_count": null,
   "metadata": {},
   "outputs": [],
   "source": []
  }
 ],
 "metadata": {
  "kernelspec": {
   "display_name": "Python 3 (ipykernel)",
   "language": "python",
   "name": "python3"
  },
  "language_info": {
   "codemirror_mode": {
    "name": "ipython",
    "version": 3
   },
   "file_extension": ".py",
   "mimetype": "text/x-python",
   "name": "python",
   "nbconvert_exporter": "python",
   "pygments_lexer": "ipython3",
   "version": "3.8.10"
  }
 },
 "nbformat": 4,
 "nbformat_minor": 2
}
