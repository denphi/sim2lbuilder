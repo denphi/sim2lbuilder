{
 "cells": [
  {
   "cell_type": "code",
   "execution_count": null,
   "metadata": {},
   "outputs": [],
   "source": [
    "from sim2lbuilder import WidgetConstructor, GetSimtoolDefaultSchema"
   ]
  },
  {
   "cell_type": "code",
   "execution_count": null,
   "metadata": {},
   "outputs": [],
   "source": [
    "schema = GetSimtoolDefaultSchema(\"meltrccas\", outputs_layout=\"Tab\")"
   ]
  },
  {
   "cell_type": "code",
   "execution_count": null,
   "metadata": {},
   "outputs": [],
   "source": [
    "schema[\"inputs\"][\"rand_seed\"][\"type\"] = 'BoundedIntText'\n",
    "schema[\"inputs\"][\"box_length\"][\"type\"] = 'BoundedIntText'\n",
    "schema[\"inputs\"][\"rand_seed\"][\"description\"] = 'Random seed'\n",
    "schema[\"inputs\"][\"time\"][\"type\"] = 'IntText'\n",
    "schema[\"inputs\"][\"velocity_seed\"][\"type\"] = 'BoundedIntText'"
   ]
  },
  {
   "cell_type": "code",
   "execution_count": null,
   "metadata": {
    "scrolled": false
   },
   "outputs": [],
   "source": [
    "def RunSimTool(widget, *kargs):\n",
    "    import simtool\n",
    "    stl = simtool.searchForSimTool(\"meltrccas\")\n",
    "    inputs = simtool.getSimToolInputs(stl)\n",
    "    for i,w in widget.inputs.items():\n",
    "        inputs[i].value = w.value\n",
    "    r = simtool.Run(stl, inputs)\n",
    "    for outk, out in widget.outputs.items():\n",
    "        with out:\n",
    "            display(r.read(outk))\n",
    "s = WidgetConstructor(schema)\n",
    "s.RunSimTool = RunSimTool"
   ]
  },
  {
   "cell_type": "code",
   "execution_count": null,
   "metadata": {},
   "outputs": [],
   "source": [
    "s._layout.children[0].layout.flex = \"1\"\n",
    "s._layout.children[1].layout.flex = \"2\"\n",
    "s.assemble()\n",
    "s"
   ]
  },
  {
   "cell_type": "code",
   "execution_count": null,
   "metadata": {},
   "outputs": [],
   "source": []
  }
 ],
 "metadata": {
  "kernelspec": {
   "display_name": "Python 3",
   "language": "python",
   "name": "python3"
  },
  "language_info": {
   "codemirror_mode": {
    "name": "ipython",
    "version": 3
   },
   "file_extension": ".py",
   "mimetype": "text/x-python",
   "name": "python",
   "nbconvert_exporter": "python",
   "pygments_lexer": "ipython3",
   "version": "3.7.7"
  }
 },
 "nbformat": 4,
 "nbformat_minor": 2
}
