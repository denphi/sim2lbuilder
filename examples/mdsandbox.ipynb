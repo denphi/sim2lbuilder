{
 "cells": [
  {
   "cell_type": "code",
   "execution_count": null,
   "metadata": {},
   "outputs": [],
   "source": [
    "from sim2lbuilder import WidgetConstructor, GetSimtoolDefaultSchema\n",
    "import numpy as np\n",
    "import plotly.graph_objects as go\n",
    "import matplotlib.pyplot as plt"
   ]
  },
  {
   "cell_type": "code",
   "execution_count": null,
   "metadata": {},
   "outputs": [],
   "source": [
    "schema = GetSimtoolDefaultSchema(\"mdsandbox\")"
   ]
  },
  {
   "cell_type": "code",
   "execution_count": null,
   "metadata": {},
   "outputs": [],
   "source": [
    "schema[\"inputs\"][\"cell_replication_number\"][\"type\"] = \"IntText\" # Needed due to bad definition of the simtool\n",
    "schema[\"inputs\"][\"config_seed\"][\"type\"] = \"IntText\" # Needed due to bad definition of the simtool\n",
    "schema[\"inputs\"][\"config_seed\"][\"value\"] = 1 # Needed due to bad definition of the simtool\n",
    "\n",
    "schema[\"inputs\"][\"composition_Nb\"][\"value\"] = 0.25 # Needed due to bad definition of the simtool\n",
    "schema[\"inputs\"][\"composition_Mo\"][\"value\"] = 0.25 # Needed due to bad definition of the simtool\n",
    "schema[\"inputs\"][\"composition_Ta\"][\"value\"] = 0.25 # Needed due to bad definition of the simtool\n",
    "schema[\"inputs\"][\"composition_W\"][\"value\"] = 0.25 # Needed due to bad definition of the simtool\n",
    "schema[\"inputs\"][\"Tinitial\"][\"value\"] = 1200\n",
    "schema[\"inputs\"][\"Tequil\"][\"value\"] = 1200\n",
    "schema[\"inputs\"][\"Pequil\"][\"value\"] = 1.01\n",
    "schema[\"inputs\"][\"velocity_seed\"][\"value\"] = 123456\n",
    "schema[\"inputs\"][\"velocity_seed\"][\"type\"] = \"IntText\"\n",
    "schema[\"inputs\"][\"config_seed\"][\"value\"] = 1\n",
    "schema[\"inputs\"][\"cell_replication_number\"][\"value\"] = 4\n",
    "schema[\"inputs\"][\"thermalization_time\"][\"value\"] = 2000\n",
    "schema[\"inputs\"][\"thermalization_time\"][\"type\"] = \"IntText\""
   ]
  },
  {
   "cell_type": "code",
   "execution_count": null,
   "metadata": {
    "scrolled": false
   },
   "outputs": [],
   "source": [
    "def RunSimTool(widget, *kargs):\n",
    "    import simtool\n",
    "    stl = simtool.searchForSimTool(\"mdsandbox\")\n",
    "    inputs = simtool.getSimToolInputs(stl)\n",
    "    for i,w in widget.inputs.items():\n",
    "        inputs[i].value = w.value\n",
    "    r = simtool.Run(stl, inputs)\n",
    "    for outk, out in widget.outputs.items():\n",
    "        with out:\n",
    "            print(r.read(outk))\n",
    "s = WidgetConstructor(schema, format=\"file\", widget_name=\"Widget0\")\n",
    "s.RunSimTool = RunSimTool\n",
    "s.assemble()\n",
    "s"
   ]
  },
  {
   "cell_type": "code",
   "execution_count": null,
   "metadata": {},
   "outputs": [],
   "source": [
    "import Widget0\n",
    "Widget0.Widget0()"
   ]
  },
  {
   "cell_type": "code",
   "execution_count": null,
   "metadata": {},
   "outputs": [],
   "source": []
  },
  {
   "cell_type": "code",
   "execution_count": null,
   "metadata": {},
   "outputs": [],
   "source": []
  }
 ],
 "metadata": {
  "kernelspec": {
   "display_name": "Python 3",
   "language": "python",
   "name": "python3"
  },
  "language_info": {
   "codemirror_mode": {
    "name": "ipython",
    "version": 3
   },
   "file_extension": ".py",
   "mimetype": "text/x-python",
   "name": "python",
   "nbconvert_exporter": "python",
   "pygments_lexer": "ipython3",
   "version": "3.7.7"
  }
 },
 "nbformat": 4,
 "nbformat_minor": 2
}
