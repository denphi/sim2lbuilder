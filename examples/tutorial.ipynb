{
 "cells": [
  {
   "cell_type": "markdown",
   "metadata": {},
   "source": [
    "# Create a new Graphical user interface\n",
    "Define parameters inputs/outputs\n",
    "<pre><code>\n",
    "inputs : \n",
    "    INPUT_NAME : # required\n",
    "        type : IPYWIDGET_TYPE # required\n",
    "        module : MODULE # optional\n",
    "        layout : layout # optional\n",
    "        parameters ...\n",
    "outputs : #optional\n",
    "    OUTPUT_NAME : # required\n",
    "        type : IPYWIDGET_TYPE # required\n",
    "        module : MODULE # optional\n",
    "        layout : layout # optional\n",
    "        parameters ...\n",
    "</code></pre>\n",
    "\n",
    "More details for parameters [input types](inputtypes.ipynb), [output types](outputtypes.ipynb)."
   ]
  },
  {
   "cell_type": "markdown",
   "metadata": {},
   "source": [
    "## Define parameters as Json"
   ]
  },
  {
   "cell_type": "code",
   "execution_count": 1,
   "metadata": {},
   "outputs": [
    {
     "data": {
      "text/plain": [
       "{'inputs': {'optionlist': {'type': 'Dropdown',\n",
       "   'options': ['1', '2', '3'],\n",
       "   'value': '2',\n",
       "   'description': 'Number:'}}}"
      ]
     },
     "execution_count": 1,
     "metadata": {},
     "output_type": "execute_result"
    }
   ],
   "source": [
    "import json\n",
    "json.loads(\"\"\"{\n",
    "    \"inputs\": {\n",
    "        \"optionlist\": {\n",
    "            \"type\": \"Dropdown\",\n",
    "            \"options\": [\"1\", \"2\", \"3\"],\n",
    "            \"value\": \"2\",\n",
    "            \"description\": \"Number:\"\n",
    "        }\n",
    "    }\n",
    "}\"\"\")"
   ]
  },
  {
   "cell_type": "markdown",
   "metadata": {},
   "source": [
    "## Define parameters as Python objects"
   ]
  },
  {
   "cell_type": "code",
   "execution_count": 2,
   "metadata": {},
   "outputs": [
    {
     "data": {
      "text/plain": [
       "{'inputs': {'optionlist': {'type': 'Dropdown',\n",
       "   'options': ['1', '2', '3'],\n",
       "   'value': '2',\n",
       "   'description': 'Number:'}}}"
      ]
     },
     "execution_count": 2,
     "metadata": {},
     "output_type": "execute_result"
    }
   ],
   "source": [
    "dict(\n",
    "    inputs = dict(\n",
    "        optionlist = dict(\n",
    "            type = 'Dropdown',\n",
    "            options = ['1', '2', '3'],\n",
    "            value = '2',\n",
    "            description = 'Number:'\n",
    "        )\n",
    "    )\n",
    ")"
   ]
  },
  {
   "cell_type": "markdown",
   "metadata": {},
   "source": [
    "## Define parameters as Python syntax"
   ]
  },
  {
   "cell_type": "code",
   "execution_count": 3,
   "metadata": {},
   "outputs": [
    {
     "data": {
      "text/plain": [
       "{'inputs': {'optionlist': {'type': 'Dropdown',\n",
       "   'options': ['1', '2', '3'],\n",
       "   'value': '2',\n",
       "   'description': 'Number:'}}}"
      ]
     },
     "execution_count": 3,
     "metadata": {},
     "output_type": "execute_result"
    }
   ],
   "source": [
    "{\n",
    "    'inputs': {\n",
    "        'optionlist': {\n",
    "            'type': 'Dropdown',\n",
    "            'options': ['1', '2', '3'],\n",
    "            'value': '2',\n",
    "            'description': 'Number:'\n",
    "        }\n",
    "    }\n",
    "}"
   ]
  },
  {
   "cell_type": "markdown",
   "metadata": {},
   "source": [
    "## Define parameters as YAML\n",
    "load yamlmagic magic world"
   ]
  },
  {
   "cell_type": "code",
   "execution_count": 4,
   "metadata": {},
   "outputs": [],
   "source": [
    "%reload_ext yamlmagic"
   ]
  },
  {
   "cell_type": "code",
   "execution_count": 5,
   "metadata": {},
   "outputs": [
    {
     "data": {
      "application/javascript": [
       "\n",
       "            require(\n",
       "                [\n",
       "                    \"notebook/js/codecell\",\n",
       "                    \"codemirror/mode/yaml/yaml\"\n",
       "                ],\n",
       "                function(cc){\n",
       "                    cc.CodeCell.options_default.highlight_modes.magic_yaml = {\n",
       "                        reg: [\"^%%yaml\"]\n",
       "                    }\n",
       "                }\n",
       "            );\n",
       "            "
      ],
      "text/plain": [
       "<IPython.core.display.Javascript object>"
      ]
     },
     "metadata": {},
     "output_type": "display_data"
    },
    {
     "data": {
      "text/plain": [
       "{'inputs': {'optionlist': {'type': 'Dropdown',\n",
       "   'options': ['1', '2', '3'],\n",
       "   'value': '2',\n",
       "   'description': 'Number:'}}}"
      ]
     },
     "execution_count": 5,
     "metadata": {},
     "output_type": "execute_result"
    }
   ],
   "source": [
    "%%yaml\n",
    "inputs : \n",
    "    optionlist: \n",
    "        type: Dropdown\n",
    "        options: ['1', '2', '3']\n",
    "        value: '2'\n",
    "        description: 'Number:'\n"
   ]
  },
  {
   "cell_type": "markdown",
   "metadata": {},
   "source": [
    "# Define Layout\n",
    "<pre><code>\n",
    "layout: #required\n",
    "    type: CONTAINER_TYPE #required\n",
    "    children: #required\n",
    "        INPUT_NAME : #optional\n",
    "        OUTPUT_NAME : #optional\n",
    "        CONTAINER_NAME : #optional\n",
    "            type: #optional\n",
    "            children: #optional\n",
    "                ...\n",
    "    parameters ... #optional\n",
    "</code></pre>"
   ]
  },
  {
   "cell_type": "code",
   "execution_count": 6,
   "metadata": {},
   "outputs": [
    {
     "data": {
      "application/javascript": [
       "\n",
       "            require(\n",
       "                [\n",
       "                    \"notebook/js/codecell\",\n",
       "                    \"codemirror/mode/yaml/yaml\"\n",
       "                ],\n",
       "                function(cc){\n",
       "                    cc.CodeCell.options_default.highlight_modes.magic_yaml = {\n",
       "                        reg: [\"^%%yaml\"]\n",
       "                    }\n",
       "                }\n",
       "            );\n",
       "            "
      ],
      "text/plain": [
       "<IPython.core.display.Javascript object>"
      ]
     },
     "metadata": {},
     "output_type": "display_data"
    },
    {
     "data": {
      "text/plain": [
       "{'inputs': {'optionlist': {'type': 'Dropdown',\n",
       "   'options': ['1', '2', '3'],\n",
       "   'value': '2',\n",
       "   'description': 'Number:'}},\n",
       " 'outputs': {'optiontext': {'type': 'Text',\n",
       "   'value': 'This is a Text',\n",
       "   'description': 'Text:'}},\n",
       " 'layout': {'type': 'VBox',\n",
       "  'children': {'optionlist': None, 'optiontext': None}}}"
      ]
     },
     "execution_count": 6,
     "metadata": {},
     "output_type": "execute_result"
    }
   ],
   "source": [
    "%%yaml\n",
    "inputs : \n",
    "    optionlist: \n",
    "        type: Dropdown\n",
    "        options: ['1', '2', '3']\n",
    "        value: '2'\n",
    "        description: 'Number:'\n",
    "outputs : \n",
    "    optiontext: \n",
    "        type: Text\n",
    "        value: This is a Text\n",
    "        description: 'Text:'\n",
    "layout :\n",
    "    type : VBox\n",
    "    children : \n",
    "        optionlist:\n",
    "        optiontext:"
   ]
  },
  {
   "cell_type": "code",
   "execution_count": 7,
   "metadata": {},
   "outputs": [],
   "source": [
    "schema = _"
   ]
  },
  {
   "cell_type": "markdown",
   "metadata": {},
   "source": [
    "## Create Widget App"
   ]
  },
  {
   "cell_type": "code",
   "execution_count": 8,
   "metadata": {},
   "outputs": [
    {
     "data": {
      "application/vnd.jupyter.widget-view+json": {
       "model_id": "95136f5b02974523bdbaad1fb41dd2f4",
       "version_major": 2,
       "version_minor": 0
      },
      "text/plain": [
       "WidgetConstructor(children=(HTML(value='<pre>import ipywidgets\\nclass MyWidget(ipywidgets.VBox):\\n  def __init…"
      ]
     },
     "metadata": {},
     "output_type": "display_data"
    }
   ],
   "source": [
    "from sim2lbuilder import WidgetConstructor\n",
    "s = WidgetConstructor(schema, format=\"text\")\n",
    "s.assemble()\n",
    "s"
   ]
  },
  {
   "cell_type": "markdown",
   "metadata": {},
   "source": [
    "Above description is equivalent to create the following collection of ipywidgets"
   ]
  },
  {
   "cell_type": "code",
   "execution_count": 9,
   "metadata": {},
   "outputs": [
    {
     "data": {
      "application/vnd.jupyter.widget-view+json": {
       "model_id": "bcc1d93ee9394e62adde5acbd1833d3d",
       "version_major": 2,
       "version_minor": 0
      },
      "text/plain": [
       "VBox(children=(Dropdown(description='Number:', index=1, layout=Layout(width='auto'), options=('1', '2', '3'), …"
      ]
     },
     "metadata": {},
     "output_type": "display_data"
    }
   ],
   "source": [
    "import ipywidgets\n",
    "optionlist = ipywidgets.Dropdown(\n",
    "    options = ['1', '2', '3'],\n",
    "    value = '2',\n",
    "    description = 'Number:',\n",
    "    disabled = False,\n",
    "    layout = ipywidgets.Layout(\n",
    "        width = \"auto\"\n",
    "    )\n",
    ")\n",
    "optiontext = ipywidgets.Text(\n",
    "    value = 'This is a Text',\n",
    "    description = 'Text:',\n",
    "    disabled = False,\n",
    "    layout = ipywidgets.Layout(\n",
    "        width = \"auto\"\n",
    "    )\n",
    ")\n",
    "layout = ipywidgets.VBox(\n",
    "    layout = ipywidgets.Layout(\n",
    "        width = \"auto\"\n",
    "    )\n",
    ")\n",
    "layout.children = [optionlist, optiontext]\n",
    "layout"
   ]
  },
  {
   "cell_type": "markdown",
   "metadata": {},
   "source": [
    "## Create Callback to Functions"
   ]
  },
  {
   "cell_type": "code",
   "execution_count": 10,
   "metadata": {},
   "outputs": [
    {
     "data": {
      "application/javascript": [
       "\n",
       "            require(\n",
       "                [\n",
       "                    \"notebook/js/codecell\",\n",
       "                    \"codemirror/mode/yaml/yaml\"\n",
       "                ],\n",
       "                function(cc){\n",
       "                    cc.CodeCell.options_default.highlight_modes.magic_yaml = {\n",
       "                        reg: [\"^%%yaml\"]\n",
       "                    }\n",
       "                }\n",
       "            );\n",
       "            "
      ],
      "text/plain": [
       "<IPython.core.display.Javascript object>"
      ]
     },
     "metadata": {},
     "output_type": "display_data"
    },
    {
     "data": {
      "text/plain": [
       "{'inputs': {'n1': {'type': 'BoundedIntText', 'value': 1},\n",
       "  'n2': {'type': 'BoundedIntText', 'value': 3},\n",
       "  'button': {'type': 'Button', 'click': 'SUM', 'description': '='}},\n",
       " 'outputs': {'sol': {'type': 'IntText'}},\n",
       " 'layout': {'type': 'HBox',\n",
       "  'children': {'n1': None, 'n2': None, 'button': None, 'sol': None}}}"
      ]
     },
     "execution_count": 10,
     "metadata": {},
     "output_type": "execute_result"
    }
   ],
   "source": [
    "%%yaml\n",
    "inputs : \n",
    "    n1: \n",
    "        type: BoundedIntText\n",
    "        value: 1\n",
    "    n2: \n",
    "        type: BoundedIntText\n",
    "        value: 3\n",
    "    button: \n",
    "        type: Button\n",
    "        click: SUM\n",
    "        description : '='\n",
    "\n",
    "outputs : \n",
    "    sol: \n",
    "        type: IntText\n",
    "layout :\n",
    "    type : HBox\n",
    "    children : \n",
    "        n1:\n",
    "        n2:        \n",
    "        button:\n",
    "        sol:"
   ]
  },
  {
   "cell_type": "code",
   "execution_count": 11,
   "metadata": {},
   "outputs": [
    {
     "data": {
      "application/vnd.jupyter.widget-view+json": {
       "model_id": "632a2477fb9f40948ed86c159dcb2280",
       "version_major": 2,
       "version_minor": 0
      },
      "text/plain": [
       "WidgetConstructor(children=(HBox(children=(BoundedIntText(value=1, layout=Layout(width='auto'), style=Descript…"
      ]
     },
     "metadata": {},
     "output_type": "display_data"
    }
   ],
   "source": [
    "from sim2lbuilder import WidgetConstructor\n",
    "s = WidgetConstructor(_)\n",
    "def SUM (w):\n",
    "    w.outputs[\"sol\"].value = w.inputs[\"n1\"].value + w.inputs[\"n2\"].value\n",
    "s.SUM = SUM\n",
    "s.assemble()\n",
    "SUM(s)\n",
    "s"
   ]
  },
  {
   "cell_type": "code",
   "execution_count": null,
   "metadata": {},
   "outputs": [],
   "source": []
  }
 ],
 "metadata": {
  "kernelspec": {
   "display_name": "Python 3",
   "language": "python",
   "name": "python3"
  },
  "language_info": {
   "codemirror_mode": {
    "name": "ipython",
    "version": 3
   },
   "file_extension": ".py",
   "mimetype": "text/x-python",
   "name": "python",
   "nbconvert_exporter": "python",
   "pygments_lexer": "ipython3",
   "version": "3.7.7"
  }
 },
 "nbformat": 4,
 "nbformat_minor": 2
}
