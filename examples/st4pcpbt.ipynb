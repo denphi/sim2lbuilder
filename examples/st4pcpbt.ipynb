{
 "cells": [
  {
   "cell_type": "code",
   "execution_count": null,
   "id": "52d058e5",
   "metadata": {
    "ExecuteTime": {
     "end_time": "2023-02-27T21:07:51.701464Z",
     "start_time": "2023-02-27T21:07:46.920327Z"
    },
    "scrolled": false
   },
   "outputs": [],
   "source": [
    "from sim2lbuilder import *\n",
    "schema = GetSimtoolDefaultSchema(\"meltingkim\")\n",
    "s = UIDLConstructor(schema, drawer_width=350, width=\"100%\", height=\"600px\")\n",
    "s.assemble(\n",
    "    jupyter_notebook_url=jupyter_notebook_url, \n",
    "    uidl_local = True,\n",
    "    copy_libraries=True,\n",
    "    widget = False,    \n",
    ")"
   ]
  },
  {
   "cell_type": "code",
   "execution_count": null,
   "id": "ab770c2f",
   "metadata": {},
   "outputs": [],
   "source": [
    "'''\n",
    "s.outputs.append({'id': 'melting_temperature',\n",
    "  'title': 'melting_temperature',\n",
    "  'function': 'loadValuePlotly',\n",
    "  'dataset': {'melting_temperature,fraction_liquid': {'name': 'melting_temperature',\n",
    "    'mode': 'markers',\n",
    "    'y': '$melting_temperature',\n",
    "    'y': '$fraction_liquid',\n",
    "    'type': 'scatter',\n",
    "    'marker': {'size': 20}}},'layout' : {\n",
    "      'title': 'melting_temperature',\n",
    "                    'showlegend': True,\n",
    "                    'yaxis': {\n",
    "                        'title': '',\n",
    "                    },\n",
    "                    'xaxis': {\n",
    "                        'title': '',\n",
    "                    }\n",
    "  }})\n",
    "s.outputs.append({'id': 'mix',\n",
    "  'title': 'melting_temperature',\n",
    "  'function': 'loadTablePlotly',\n",
    "  'dataset': {\n",
    "      'melting_temperature': {\n",
    "          'header': {'values': '$value'},\n",
    "          'cells': {'values': '$value'}\n",
    "      },\n",
    "      '_id_': {\n",
    "          'header': {'values': '$value'},\n",
    "          'cells': {'values': '$value'}\n",
    "      }\n",
    "  },\n",
    "  'layout': {'title': '',\n",
    "   'showlegend': True,\n",
    "   'yaxis': {'title': ''},\n",
    "   'xaxis': {'title': ''}}})\n",
    "'''"
   ]
  },
  {
   "cell_type": "code",
   "execution_count": null,
   "id": "29ae5170",
   "metadata": {},
   "outputs": [],
   "source": [
    "#import PIL\n",
    "#from PIL import Image\n",
    "#a = Image.open(\"nanohub.png\")"
   ]
  },
  {
   "cell_type": "code",
   "execution_count": null,
   "id": "89d17313",
   "metadata": {},
   "outputs": [],
   "source": []
  },
  {
   "cell_type": "code",
   "execution_count": null,
   "id": "f49a7a3a",
   "metadata": {},
   "outputs": [],
   "source": []
  },
  {
   "cell_type": "code",
   "execution_count": null,
   "id": "bbb49574",
   "metadata": {},
   "outputs": [],
   "source": []
  },
  {
   "cell_type": "code",
   "execution_count": null,
   "id": "a7203586",
   "metadata": {},
   "outputs": [],
   "source": []
  }
 ],
 "metadata": {
  "kernelspec": {
   "display_name": "Python 3 (ipykernel)",
   "language": "python",
   "name": "python3"
  },
  "language_info": {
   "codemirror_mode": {
    "name": "ipython",
    "version": 3
   },
   "file_extension": ".py",
   "mimetype": "text/x-python",
   "name": "python",
   "nbconvert_exporter": "python",
   "pygments_lexer": "ipython3",
   "version": "3.8.10"
  },
  "toc": {
   "base_numbering": 1,
   "nav_menu": {},
   "number_sections": true,
   "sideBar": true,
   "skip_h1_title": false,
   "title_cell": "Table of Contents",
   "title_sidebar": "Contents",
   "toc_cell": false,
   "toc_position": {},
   "toc_section_display": true,
   "toc_window_display": false
  },
  "varInspector": {
   "cols": {
    "lenName": 16,
    "lenType": 16,
    "lenVar": 40
   },
   "kernels_config": {
    "python": {
     "delete_cmd_postfix": "",
     "delete_cmd_prefix": "del ",
     "library": "var_list.py",
     "varRefreshCmd": "print(var_dic_list())"
    },
    "r": {
     "delete_cmd_postfix": ") ",
     "delete_cmd_prefix": "rm(",
     "library": "var_list.r",
     "varRefreshCmd": "cat(var_dic_list()) "
    }
   },
   "types_to_exclude": [
    "module",
    "function",
    "builtin_function_or_method",
    "instance",
    "_Feature"
   ],
   "window_display": false
  }
 },
 "nbformat": 4,
 "nbformat_minor": 5
}
