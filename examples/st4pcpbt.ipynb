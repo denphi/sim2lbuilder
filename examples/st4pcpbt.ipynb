{
 "cells": [
  {
   "cell_type": "code",
   "execution_count": 1,
   "id": "floating-officer",
   "metadata": {
    "ExecuteTime": {
     "end_time": "2023-03-07T16:31:49.968193Z",
     "start_time": "2023-03-07T16:31:45.746977Z"
    },
    "scrolled": false
   },
   "outputs": [
    {
     "name": "stdout",
     "output_type": "stream",
     "text": [
      "copying https://cdnjs.cloudflare.com/ajax/libs/require.js/2.3.6/require.min.js\n",
      "already downloaded require\n",
      "copying https://unpkg.com/react@18.2.0/umd/react.production.min.js\n",
      "already downloaded React\n",
      "copying https://unpkg.com/react-dom@18.2.0/umd/react-dom.production.min.js\n",
      "already downloaded ReactDOM\n",
      "copying https://unpkg.com/@mui/material@5.3.1/umd/material-ui.production.min.js\n",
      "already downloaded Material\n",
      "copying https://unpkg.com/react-plotly.js@2.6.0/dist/create-plotly-component.js\n",
      "already downloaded PlotlyComponent\n",
      "copying https://cdn.plot.ly/plotly-latest.min.js\n",
      "already downloaded Plotly\n",
      "copying https://cdnjs.cloudflare.com/ajax/libs/mathjs/6.6.1/math.min.js\n",
      "already downloaded math\n",
      "copying https://unpkg.com/axios/dist/axios.min.js\n",
      "already downloaded Axios\n",
      "copying https://www.unpkg.com/localforage@1.7.3/dist/localforage.min.js\n",
      "already downloaded LocalForage\n",
      "copying https://unpkg.com/react-number-format@4.3.1/dist/react-number-format.js\n",
      "already downloaded Format\n",
      "copying https://unpkg.com/prop-types@15.6/prop-types.min.js\n",
      "already downloaded PropTypes\n",
      "building HTML \n",
      "done!\n",
      "https://proxy.nanohub.org/weber/2173211/mb4GkL70U3huCMoK/7/uidl/INTROTOSIMTOOLS.HTML/local/sim2lbuilder/examples/INTROTOSIMTOOLS.HTML\n"
     ]
    },
    {
     "name": "stderr",
     "output_type": "stream",
     "text": [
      "/apps/share64/debian10/anaconda/anaconda-7/lib/python3.8/site-packages/sim2lbuilder/sim2lbuilder.py:288: UserWarning: outputElement01 is not supported by default\n",
      "  warnings.warn( k + \" is not supported by default\")\n"
     ]
    }
   ],
   "source": [
    "from sim2lbuilder import *\n",
    "schema = GetSimtoolDefaultSchema(\"introtosimtools\")\n",
    "s = UIDLConstructor(schema, drawer_width=350, width=\"100%\", height=\"600px\")\n",
    "s.assemble(\n",
    "    jupyter_notebook_url=jupyter_notebook_url, \n",
    "    uidl_local = True,\n",
    "    copy_libraries=True,\n",
    "    widget = False,    \n",
    ")"
   ]
  },
  {
   "cell_type": "code",
   "execution_count": null,
   "id": "united-parcel",
   "metadata": {
    "ExecuteTime": {
     "end_time": "2023-03-03T22:24:30.746496Z",
     "start_time": "2023-03-03T22:24:30.735733Z"
    }
   },
   "outputs": [],
   "source": [
    "'''\n",
    "s.outputs.append({'id': 'melting_temperature',\n",
    "  'title': 'melting_temperature',\n",
    "  'function': 'loadValuePlotly',\n",
    "  'dataset': {'melting_temperature,fraction_liquid': {'name': 'melting_temperature',\n",
    "    'mode': 'markers',\n",
    "    'y': '$melting_temperature',\n",
    "    'y': '$fraction_liquid',\n",
    "    'type': 'scatter',\n",
    "    'marker': {'size': 20}}},'layout' : {\n",
    "      'title': 'melting_temperature',\n",
    "                    'showlegend': True,\n",
    "                    'yaxis': {\n",
    "                        'title': '',\n",
    "                    },\n",
    "                    'xaxis': {\n",
    "                        'title': '',\n",
    "                    }\n",
    "  }})\n",
    "s.outputs.append({'id': 'mix',\n",
    "  'title': 'melting_temperature',\n",
    "  'function': 'loadTablePlotly',\n",
    "  'dataset': {\n",
    "      'melting_temperature': {\n",
    "          'header': {'values': '$value'},\n",
    "          'cells': {'values': '$value'}\n",
    "      },\n",
    "      '_id_': {\n",
    "          'header': {'values': '$value'},\n",
    "          'cells': {'values': '$value'}\n",
    "      }\n",
    "  },\n",
    "  'layout': {'title': '',\n",
    "   'showlegend': True,\n",
    "   'yaxis': {'title': ''},\n",
    "   'xaxis': {'title': ''}}})\n",
    "'''"
   ]
  },
  {
   "cell_type": "code",
   "execution_count": null,
   "id": "classical-harrison",
   "metadata": {
    "ExecuteTime": {
     "end_time": "2023-03-03T22:24:30.752465Z",
     "start_time": "2023-03-03T22:24:30.748942Z"
    }
   },
   "outputs": [],
   "source": []
  },
  {
   "cell_type": "code",
   "execution_count": null,
   "id": "developmental-cruise",
   "metadata": {
    "ExecuteTime": {
     "end_time": "2023-03-03T19:53:47.812947Z",
     "start_time": "2023-03-03T19:53:47.784592Z"
    }
   },
   "outputs": [],
   "source": []
  },
  {
   "cell_type": "code",
   "execution_count": null,
   "id": "nonprofit-pledge",
   "metadata": {
    "ExecuteTime": {
     "end_time": "2023-03-03T20:58:36.810312Z",
     "start_time": "2023-03-03T20:58:36.805041Z"
    }
   },
   "outputs": [],
   "source": []
  },
  {
   "cell_type": "code",
   "execution_count": null,
   "id": "trained-assembly",
   "metadata": {
    "ExecuteTime": {
     "end_time": "2023-03-03T20:58:36.818366Z",
     "start_time": "2023-03-03T20:58:36.812157Z"
    }
   },
   "outputs": [],
   "source": []
  },
  {
   "cell_type": "code",
   "execution_count": null,
   "id": "indoor-content",
   "metadata": {
    "ExecuteTime": {
     "end_time": "2023-03-03T20:58:36.824797Z",
     "start_time": "2023-03-03T20:58:36.820227Z"
    }
   },
   "outputs": [],
   "source": []
  },
  {
   "cell_type": "code",
   "execution_count": null,
   "id": "crucial-gates",
   "metadata": {
    "ExecuteTime": {
     "end_time": "2023-03-03T20:58:37.000425Z",
     "start_time": "2023-03-03T20:58:31.446Z"
    }
   },
   "outputs": [],
   "source": []
  },
  {
   "cell_type": "code",
   "execution_count": null,
   "id": "intense-belarus",
   "metadata": {
    "ExecuteTime": {
     "end_time": "2023-03-03T20:58:37.001681Z",
     "start_time": "2023-03-03T20:58:31.449Z"
    }
   },
   "outputs": [],
   "source": []
  },
  {
   "cell_type": "code",
   "execution_count": null,
   "id": "changed-broadcasting",
   "metadata": {
    "ExecuteTime": {
     "end_time": "2023-03-03T20:58:37.002927Z",
     "start_time": "2023-03-03T20:58:31.460Z"
    }
   },
   "outputs": [],
   "source": []
  },
  {
   "cell_type": "code",
   "execution_count": null,
   "id": "separated-lobby",
   "metadata": {
    "ExecuteTime": {
     "end_time": "2023-03-03T20:49:25.689909Z",
     "start_time": "2023-03-03T20:49:25.684822Z"
    }
   },
   "outputs": [],
   "source": []
  },
  {
   "cell_type": "code",
   "execution_count": null,
   "id": "stock-swift",
   "metadata": {},
   "outputs": [],
   "source": []
  }
 ],
 "metadata": {
  "kernelspec": {
   "display_name": "Python 3 (ipykernel)",
   "language": "python",
   "name": "python3"
  },
  "language_info": {
   "codemirror_mode": {
    "name": "ipython",
    "version": 3
   },
   "file_extension": ".py",
   "mimetype": "text/x-python",
   "name": "python",
   "nbconvert_exporter": "python",
   "pygments_lexer": "ipython3",
   "version": "3.8.10"
  },
  "toc": {
   "base_numbering": 1,
   "nav_menu": {},
   "number_sections": true,
   "sideBar": true,
   "skip_h1_title": false,
   "title_cell": "Table of Contents",
   "title_sidebar": "Contents",
   "toc_cell": false,
   "toc_position": {},
   "toc_section_display": true,
   "toc_window_display": false
  },
  "varInspector": {
   "cols": {
    "lenName": 16,
    "lenType": 16,
    "lenVar": 40
   },
   "kernels_config": {
    "python": {
     "delete_cmd_postfix": "",
     "delete_cmd_prefix": "del ",
     "library": "var_list.py",
     "varRefreshCmd": "print(var_dic_list())"
    },
    "r": {
     "delete_cmd_postfix": ") ",
     "delete_cmd_prefix": "rm(",
     "library": "var_list.r",
     "varRefreshCmd": "cat(var_dic_list()) "
    }
   },
   "types_to_exclude": [
    "module",
    "function",
    "builtin_function_or_method",
    "instance",
    "_Feature"
   ],
   "window_display": false
  }
 },
 "nbformat": 4,
 "nbformat_minor": 5
}
