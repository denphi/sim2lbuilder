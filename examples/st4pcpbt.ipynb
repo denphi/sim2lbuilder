{
 "cells": [
  {
   "cell_type": "code",
   "execution_count": 8,
   "id": "52d058e5",
   "metadata": {
    "ExecuteTime": {
     "end_time": "2023-02-24T01:58:08.058646Z",
     "start_time": "2023-02-24T01:58:07.990793Z"
    }
   },
   "outputs": [],
   "source": [
    "from sim2lbuilder import *\n",
    "schema = GetSimtoolDefaultSchema(\"st4pcpbt\")\n",
    "import nanohubuidl.teleport as t\n",
    "from nanohubuidl.simtool import SimtoolBuilder\n",
    "from nanohubuidl.material import MaterialBuilder\n",
    "from nanohubuidl.material import MaterialContent, MaterialLabContent\n",
    "from nanohubuidl.plotly import PlotlyBuilder\n",
    "from nanohubuidl.app import AppBuilder, FormHelper\n",
    "from nanohubuidl.nanohub import Auth"
   ]
  },
  {
   "cell_type": "code",
   "execution_count": null,
   "id": "bea44127",
   "metadata": {
    "ExecuteTime": {
     "end_time": "2023-02-23T15:51:35.866136Z",
     "start_time": "2023-02-23T15:51:35.854424Z"
    }
   },
   "outputs": [],
   "source": []
  },
  {
   "cell_type": "code",
   "execution_count": null,
   "id": "7a8cb6f5",
   "metadata": {
    "ExecuteTime": {
     "end_time": "2023-02-23T15:50:27.964128Z",
     "start_time": "2023-02-23T15:50:24.739Z"
    }
   },
   "outputs": [],
   "source": []
  },
  {
   "cell_type": "code",
   "execution_count": 2,
   "id": "5908fc1b",
   "metadata": {
    "ExecuteTime": {
     "end_time": "2023-02-24T01:56:30.168313Z",
     "start_time": "2023-02-24T01:56:30.166097Z"
    },
    "scrolled": false
   },
   "outputs": [],
   "source": [
    "#s = WidgetConstructor(schema)\n",
    "#s.assemble()\n",
    "#s"
   ]
  },
  {
   "cell_type": "code",
   "execution_count": 3,
   "id": "70ffc4bd",
   "metadata": {
    "ExecuteTime": {
     "end_time": "2023-02-24T01:56:30.176818Z",
     "start_time": "2023-02-24T01:56:30.171019Z"
    }
   },
   "outputs": [],
   "source": [
    "#s = WidgetConstructor(schema)\n",
    "#s.RunSimTool = RunSimTool\n",
    "#s.assemble()\n",
    "#s"
   ]
  },
  {
   "cell_type": "code",
   "execution_count": 4,
   "id": "dcdf67ef",
   "metadata": {
    "ExecuteTime": {
     "end_time": "2023-02-24T01:56:30.186098Z",
     "start_time": "2023-02-24T01:56:30.179368Z"
    }
   },
   "outputs": [
    {
     "name": "stdout",
     "output_type": "stream",
     "text": [
      "input.Fileis not supported\n",
      "input.Imageis not supported\n",
      "input.Imageis not supported\n"
     ]
    }
   ],
   "source": [
    "s = UIDLConstructor(schema)"
   ]
  },
  {
   "cell_type": "code",
   "execution_count": 5,
   "id": "17be75e4",
   "metadata": {
    "ExecuteTime": {
     "end_time": "2023-02-24T00:20:33.505241Z",
     "start_time": "2023-02-24T00:20:33.500652Z"
    },
    "deletable": false,
    "editable": false,
    "run_control": {
     "frozen": true
    }
   },
   "outputs": [],
   "source": [
    "s.theme = MaterialBuilder.DefaultTheme(\n",
    "    primary_color = '#699FBB',\n",
    "    secondary_color = '#f1f1f1',\n",
    "    primary_bg = '#FFFFFF',\n",
    "    secondary_bg = '#dbeaf0',\n",
    "    default_button = 'rgba(255, 255, 255, 0.87)',\n",
    "    primary_button = 'rgba(255, 255, 255, 0.87)',\n",
    "    secondary_button = 'rgba(0, 0, 0, 0.87)',\n",
    "    default_button_bg = 'rgb(63, 162, 192)',\n",
    "    primary_button_bg = 'rgba(0, 0, 0, 0.65)',\n",
    "    secondary_button_bg = 'rgba(255, 0, 0, 0.12)',\n",
    "    drawer_position = \"relative\"\n",
    ")\n",
    "\n",
    "s.theme['overrides']['MuiSlider'] = {\n",
    "    \"markLabel\" : {\n",
    "        'font-size' : '0.6rem'\n",
    "    }\n",
    "}"
   ]
  },
  {
   "cell_type": "code",
   "execution_count": 5,
   "id": "06977924",
   "metadata": {
    "ExecuteTime": {
     "end_time": "2023-02-24T01:56:30.191576Z",
     "start_time": "2023-02-24T01:56:30.188864Z"
    }
   },
   "outputs": [],
   "source": [
    "#s.theme"
   ]
  },
  {
   "cell_type": "code",
   "execution_count": 7,
   "id": "2b466808",
   "metadata": {
    "ExecuteTime": {
     "end_time": "2023-02-24T00:20:33.522034Z",
     "start_time": "2023-02-24T00:20:33.513895Z"
    },
    "deletable": false,
    "editable": false,
    "run_control": {
     "frozen": true
    }
   },
   "outputs": [],
   "source": [
    "import base64\n",
    "def encode_image(image_url):\n",
    "    ext = image_url.split('.')[-1]\n",
    "    prefix = f'data:image/{ext};base64,'\n",
    "    with open(image_url, 'rb') as f:\n",
    "        img = f.read()\n",
    "    return prefix + base64.b64encode(img).decode('utf-8')\n",
    "\n",
    "\n",
    "s.appbar = MaterialBuilder.AppBar(\n",
    "    title=\"Piece-Wise Constant Potential Barriers App\",\n",
    "    callbacks = [\n",
    "      {\n",
    "        \"type\": \"propCall2\",\n",
    "        \"calls\": \"refreshViews\",\n",
    "        \"args\": ['self', '']\n",
    "      }\n",
    "    ] \n",
    ")\n",
    "\n",
    "logo2 = t.TeleportElement(t.TeleportContent(elementType=\"img\"))\n",
    "logo2.content.attrs[\"width\"] = \"180\"\n",
    "logo2.content.attrs[\"src\"] = encode_image(\"../../pcpbtapp/src/image.png\")\n",
    "\n",
    "logo = t.TeleportElement(t.TeleportContent(elementType=\"img\"))\n",
    "logo.content.attrs[\"width\"] = \"120\"\n",
    "logo.content.attrs[\"src\"] = \"https://nanohub.org/app/site/media/images/PressKit/nanoHUB_logo_color.jpg\"\n",
    "\n",
    "s.appbar.content.children[0].addContent(logo)\n",
    "s.appbar.content.children[0].content.children[0] = logo2"
   ]
  },
  {
   "cell_type": "code",
   "execution_count": 8,
   "id": "b796952b",
   "metadata": {
    "ExecuteTime": {
     "end_time": "2023-02-24T00:20:33.531050Z",
     "start_time": "2023-02-24T00:20:33.524011Z"
    },
    "deletable": false,
    "editable": false,
    "run_control": {
     "frozen": true
    }
   },
   "outputs": [],
   "source": [
    "s.globals.assets.append({\"type\": \"style\", \"content\": \"div[role=tooltip] { z-index:100 }\"})\n",
    "s.globals.assets.append({\"type\": \"style\", \"content\": \"li[role=option] { font-size:initial; width:100% }\"})\n",
    "s.globals.assets.append({\"type\": \"style\", \"content\": \"div.output_subarea {max-width:100%}\"})\n",
    "s.globals.assets.append({\"type\": \"style\", \"content\": \"div.cell {padding:0px}\"})\n",
    "s.globals.assets.append({\"type\": \"style\", \"content\": \"#ipython_notebook {display:none}\"})\n",
    "s.globals.assets.append({\"type\": \"style\", \"content\": \"span#login_widget {position: absolute;left: 14px}\"})\n",
    "s.globals.assets.append({\"type\": \"style\", \"content\": \"body > #header {background-color: #eeee;}\"})\n",
    "s.globals.assets.append({\"type\": \"style\", \"content\": \".end_space {display: none}\"})\n",
    "s.globals.assets.append({\"type\": \"style\", \"content\": \".MuiToggleButtonGroup-root {background-color: #EEE !important;  }\"})\n",
    "s.globals.assets.append({\"type\": \"style\", \"content\": \".MuiToggleButton-root.Mui-selected {background-color:#97aad1 !important;  }\"})\n",
    "s.globals.assets.append({\"type\": \"style\", \"content\": \".MuiToggleButton-root:hover {background-color:#EEE !important;}\"})\n",
    "s.globals.assets.append({\"type\": \"style\", \"content\": \".MuiToggleButton-root {border:1px solid #333 !important; background-color:#FFF !important;text-transform:none !important;border-radius:20px !important;margin:5px !important}\"})\n",
    "s.globals.assets.append({\"type\": \"style\", \"content\": \"#Results {display:none !important;}\"})"
   ]
  },
  {
   "cell_type": "code",
   "execution_count": 9,
   "id": "8d3daa6b",
   "metadata": {
    "ExecuteTime": {
     "end_time": "2023-02-24T00:20:33.541094Z",
     "start_time": "2023-02-24T00:20:33.532894Z"
    },
    "deletable": false,
    "editable": false,
    "run_control": {
     "frozen": true
    }
   },
   "outputs": [],
   "source": [
    "s.inputs_layout = {'type': 'tab',\n",
    "  'id': '',\n",
    "  'label': '',\n",
    "  'layout': 'horizontal',\n",
    "  'children': [{'type': 'group',\n",
    "    'label': 'Structure',\n",
    "    'enable': None,\n",
    "    'layout': 'horizontal',\n",
    "    'children': [{'type': 'number',\n",
    "      'id': 'device',\n",
    "      'label': '',\n",
    "      'enable': None}]},\n",
    "   {'type': 'group',\n",
    "    'label': 'Environmental',\n",
    "    'enable': None,\n",
    "    'layout': 'horizontal',\n",
    "    'children': [{'type': 'number', 'id': 'a0', 'label': '', 'enable': None},\n",
    "     {'type': 'number', 'id': 'dE', 'label': '', 'enable': None},\n",
    "     {'type': 'number', 'id': 'Vtop', 'label': '', 'enable': None},\n",
    "     {'type': 'number', 'id': 'adap_criterion1', 'label': '', 'enable': None},\n",
    "     {'type': 'number',\n",
    "      'id': 'adap_criterion2',\n",
    "      'label': '',\n",
    "      'enable': None}]}]}"
   ]
  },
  {
   "cell_type": "code",
   "execution_count": 10,
   "id": "09c1357e",
   "metadata": {
    "ExecuteTime": {
     "end_time": "2023-02-24T00:20:33.615628Z",
     "start_time": "2023-02-24T00:20:33.543348Z"
    },
    "deletable": false,
    "editable": false,
    "run_control": {
     "frozen": true
    }
   },
   "outputs": [],
   "source": [
    "base = 60\n",
    "scaley = 200\n",
    "shadow = 5\n",
    "minwell = \"3.5\"\n",
    "maxV = 2\n",
    "maxM = 2\n",
    "maxL = 15\n",
    "scalex = \"20\"\n",
    "\n",
    "component = \"Structure\"\n",
    "\n",
    "Container = t.TeleportElement(t.TeleportContent(elementType=\"div\"))\n",
    "Paper = t.TeleportElement(MaterialContent(elementType=\"Paper\"))\n",
    "Paper.content.style = {'width': '99%', 'overflow': 'auto'}\n",
    "PCPBTComponent = t.TeleportComponent(\"PCPBTComponent\", Paper)\n",
    "\n",
    "Container.content.style = '''${\n",
    "    'position' : 'relative',\n",
    "    'overflow' : 'auto',\n",
    "    'height' : 10 +''' + str(\n",
    "    scaley * maxV) + ''' + ''' + str(shadow + base) + ''',\n",
    "    'width' : 10 + self.props.device.reduce((sum, v) => sum + Math.max(v.L,''' + minwell + ''')*''' + scalex + ''', 0) + ''' + str(\n",
    "        shadow) + ''',\n",
    "}'''\n",
    "\n",
    "Svg = t.TeleportElement(t.TeleportContent(elementType=\"svg\"))\n",
    "Defs = t.TeleportElement(t.TeleportContent(elementType=\"defs\"))\n",
    "\n",
    "Marker1 = t.TeleportElement(t.TeleportContent(elementType=\"marker\"))\n",
    "Marker1.content.attrs[\"id\"] = \"startarrow\"\n",
    "Marker1.content.attrs[\"markerWidth\"] = \"10\"\n",
    "Marker1.content.attrs[\"markerHeight\"] = \"7\"\n",
    "Marker1.content.attrs[\"refX\"] = \"10\"\n",
    "Marker1.content.attrs[\"refY\"] = \"3.5\"\n",
    "Marker1.content.attrs[\"orient\"] = \"auto\"\n",
    "Polygon1 = t.TeleportElement(t.TeleportContent(elementType=\"polygon\"))\n",
    "Polygon1.content.attrs[\"points\"] = \"10 0, 10 7, 0 3.5\"\n",
    "Polygon1.content.attrs[\"fill\"] = \"#000\"\n",
    "\n",
    "Marker2 = t.TeleportElement(t.TeleportContent(elementType=\"marker\"))\n",
    "Marker2.content.attrs[\"id\"] = \"endarrow\"\n",
    "Marker2.content.attrs[\"markerWidth\"] = \"10\"\n",
    "Marker2.content.attrs[\"markerHeight\"] = \"7\"\n",
    "Marker2.content.attrs[\"refX\"] = \"0\"\n",
    "Marker2.content.attrs[\"refY\"] = \"3.5\"\n",
    "Marker2.content.attrs[\"markerUnits\"] = \"strokeWidth\"\n",
    "Polygon2 = t.TeleportElement(t.TeleportContent(elementType=\"polygon\"))\n",
    "Polygon2.content.attrs[\"points\"] = \"0 0, 10 3.5, 0 7\"\n",
    "Polygon2.content.attrs[\"fill\"] = \"#000\"\n",
    "\n",
    "Marker3 = t.TeleportElement(t.TeleportContent(elementType=\"marker\"))\n",
    "Marker3.content.attrs[\"id\"] = \"endarrow2\"\n",
    "Marker3.content.attrs[\"markerWidth\"] = \"7\"\n",
    "Marker3.content.attrs[\"markerHeight\"] = \"10\"\n",
    "Marker3.content.attrs[\"refX\"] = \"3.5\"\n",
    "Marker3.content.attrs[\"refY\"] = \"10\"\n",
    "Marker1.content.attrs[\"orient\"] = \"auto\"\n",
    "Polygon3 = t.TeleportElement(t.TeleportContent(elementType=\"polygon\"))\n",
    "Polygon3.content.attrs[\"points\"] = \"0 10, 7 10, 3.5 0\"\n",
    "Polygon3.content.attrs[\"fill\"] = \"#000\"\n",
    "\n",
    "Marker1.addContent(Polygon1)\n",
    "Marker2.addContent(Polygon2)\n",
    "Marker3.addContent(Polygon3)\n",
    "\n",
    "Defs.addContent(Marker1)\n",
    "Defs.addContent(Marker2)\n",
    "Defs.addContent(Marker3)\n",
    "\n",
    "Filter = t.TeleportElement(t.TeleportContent(elementType=\"filter\"))\n",
    "Filter.content.attrs[\"id\"] = \"shadow\"\n",
    "Filter.content.attrs[\"colorInterpolationFilters\"] = \"sRGB\"\n",
    "\n",
    "FeDropShadow = t.TeleportElement(t.TeleportContent(elementType=\"fedropshadow\"))\n",
    "FeDropShadow.content.attrs[\"dx\"] = \"2\"\n",
    "FeDropShadow.content.attrs[\"dy\"] = \"2\"\n",
    "FeDropShadow.content.attrs[\"stdDeviation\"] = \"3\"\n",
    "FeDropShadow.content.attrs[\"floodOpacity\"] = \"0.5\"\n",
    "Filter.addContent(FeDropShadow)\n",
    "Defs.addContent(Filter)\n",
    "Svg.addContent(Defs)\n",
    "\n",
    "Wells = t.TeleportElement(t.TeleportContent(elementType=\"g\"))\n",
    "\n",
    "Svg.content.attrs[\"height\"] = \"$\" + str(\n",
    "    scaley * maxV) + \" + \" + str(shadow + base)\n",
    "Svg.content.attrs[\n",
    "    \"width\"] = \"$self.props.device.reduce((sum, v) => sum + Math.max(v.L,\" + minwell + \")*\" + scalex + \", 0) + \" + str(\n",
    "        shadow)\n",
    "\n",
    "Rect = t.TeleportElement(t.TeleportContent(elementType=\"rect\"))\n",
    "Rect.content.attrs[\"height\"] = \"90%\"\n",
    "Rect.content.attrs[\"width\"] = \"90%\"\n",
    "Rect.content.attrs[\"y\"] = \"1\"\n",
    "Rect.content.attrs[\"x\"] = \"1\"\n",
    "Rect.content.attrs[\"strokeWidth\"] = \"1.5\"\n",
    "Rect.content.attrs[\"stroke\"] = \"#000\"\n",
    "\n",
    "colors = [\"#AAA\", \"#AAA\", \"#AAA\", \"#AAA\", \"#CCCC11\"]\n",
    "\n",
    "for deep in range(shadow):\n",
    "\n",
    "    Well = t.TeleportElement(t.TeleportContent(elementType=\"rect\"))\n",
    "    Well.content.attrs[\"y\"] = \"$\" + str(\n",
    "        scaley * maxV) + \"-local.V*\" + str(scaley) + \" + \" + str(deep)\n",
    "    Well.content.attrs[\n",
    "        \"x\"] = \"$self.props.device.slice(0, index).reduce((sum, v) => sum + Math.max(v.L,\" + minwell + \")*\" + scalex + \", 0) + \" + str(\n",
    "            deep)\n",
    "    Well.content.attrs[\n",
    "        \"width\"] = \"$Math.max(local.L,\" + minwell + \")*\" + scalex\n",
    "    Well.content.attrs[\"height\"] = \"$local.V*\" + str(scaley) + \" + \" + str(\n",
    "        base) + \"\"\n",
    "    Well.content.attrs[\"fill\"] = colors[deep]\n",
    "\n",
    "    RepeatWells = t.TeleportRepeat(Well)\n",
    "    RepeatWells.iteratorName = \"local\"\n",
    "    RepeatWells.dataSource = {\n",
    "        \"type\": \"dynamic\",\n",
    "        \"content\": {\n",
    "            \"referenceType\": \"prop\",\n",
    "            \"id\": \"device\"\n",
    "        }\n",
    "    }\n",
    "    Wells.addContent(RepeatWells)\n",
    "\n",
    "Arrows = t.TeleportElement(t.TeleportContent(elementType=\"g\"))\n",
    "\n",
    "Arrow = t.TeleportElement(t.TeleportContent(elementType=\"line\"))\n",
    "Arrow.content.attrs[\n",
    "    \"x1\"] = \"$self.props.device.slice(0, index).reduce((sum, v) => sum + Math.max(v.L,\" + minwell + \")*\" + scalex + \", 0) + 21 + \" + str(\n",
    "        shadow)\n",
    "Arrow.content.attrs[\"y1\"] = \"25\"\n",
    "Arrow.content.attrs[\n",
    "    \"x2\"] = \"$self.props.device.slice(0, index+1).reduce((sum, v) => sum + Math.max(v.L,\" + minwell + \")*\" + scalex + \", 0) -21 + \" + str(\n",
    "        shadow)\n",
    "Arrow.content.attrs[\"y2\"] = \"25\"\n",
    "Arrow.content.attrs[\"stroke\"] = \"#000\"\n",
    "Arrow.content.attrs[\"strokeWidth\"] = \"2\"\n",
    "Arrow.content.attrs[\"markerEnd\"] = \"url(#endarrow)\"\n",
    "Arrow.content.attrs[\"markerStart\"] = \"url(#startarrow)\"\n",
    "\n",
    "Arrow2 = t.TeleportElement(t.TeleportContent(elementType=\"line\"))\n",
    "Arrow2.content.attrs[\n",
    "    \"x1\"] = \"$self.props.device.slice(0, index).reduce((sum, v) => sum + Math.max(v.L,\" + minwell + \")*\" + scalex + \", 0) + Math.max(local.L,\" + minwell + \")*\" + scalex + \"/2 + \" + str(\n",
    "        shadow)\n",
    "Arrow2.content.attrs[\"y1\"] = \"$\" + str(\n",
    "    scaley * maxV) + \" + \" + str(base - 25) + \" + \" + str(shadow)\n",
    "Arrow2.content.attrs[\n",
    "    \"x2\"] = \"$self.props.device.slice(0, index).reduce((sum, v) => sum + Math.max(v.L,\" + minwell + \")*\" + scalex + \", 0) + Math.max(local.L,\" + minwell + \")*\" + scalex + \"/2 + \" + str(\n",
    "        shadow)\n",
    "Arrow2.content.attrs[\"y2\"] = \"$Math.max(\" + str(\n",
    "    scaley *\n",
    "    maxV) + \" + 20 -local.V*\" + str(scaley) + \" + \" + str(shadow) + \",70)\"\n",
    "Arrow2.content.attrs[\"stroke\"] = \"#000\"\n",
    "Arrow2.content.attrs[\"strokeWidth\"] = \"2\"\n",
    "Arrow2.content.attrs[\"markerEnd\"] = \"url(#endarrow2)\"\n",
    "Arrows.addContent(Arrow)\n",
    "Arrows.addContent(Arrow2)\n",
    "\n",
    "RepeatArrows = t.TeleportRepeat(Arrows)\n",
    "RepeatArrows.iteratorName = \"local\"\n",
    "RepeatArrows.dataSource = {\n",
    "    \"type\": \"dynamic\",\n",
    "    \"content\": {\n",
    "        \"referenceType\": \"prop\",\n",
    "        \"id\": \"device\"\n",
    "    }\n",
    "}\n",
    "\n",
    "Wells.addContent(RepeatArrows)\n",
    "\n",
    "eol = \"\\n\"\n",
    "updateStructure = \"\"\n",
    "updateStructure += \"(c,i,a,v)=>{ \" + eol\n",
    "updateStructure += \"  let new_state = c.props.device.map((e, ii)=>{\" + eol\n",
    "updateStructure += \"    if(ii==i){\" + eol\n",
    "updateStructure += \"      let v2 = v.target.value;\" + eol\n",
    "updateStructure += \"      if (!isNaN(v2)){\" + eol\n",
    "updateStructure += \"        let clone = JSON.parse(JSON.stringify(e));\" + eol\n",
    "updateStructure += \"        clone[a]=Number(v2);\" + eol\n",
    "updateStructure += \"        if (a == 'L' && clone[a] < 0){\" + eol\n",
    "updateStructure += \"          clone[a]=0;\" + eol\n",
    "updateStructure += \"        } else if (a == 'L' && clone[a] > \" + str(\n",
    "    maxL) + \"){\" + eol\n",
    "updateStructure += \"          clone[a]=\" + str(maxL) + \";\" + eol\n",
    "updateStructure += \"        } else if (a == 'V' && clone[a] < 0){\" + eol\n",
    "updateStructure += \"          clone[a]=0;\" + eol\n",
    "updateStructure += \"        } else if (a == 'V' && clone[a] > \" + str(\n",
    "    maxV) + \"){\" + eol\n",
    "updateStructure += \"          clone[a]=\" + str(maxV) + \";\" + eol\n",
    "updateStructure += \"        } else if (a == 'm' && clone[a] < 0){\" + eol\n",
    "updateStructure += \"          clone[a]=0;\" + eol\n",
    "updateStructure += \"        } else if (a == 'm' && clone[a] > \" + str(\n",
    "    maxM) + \"){\" + eol\n",
    "updateStructure += \"          clone[a]=\" + str(maxM) + \";\" + eol\n",
    "updateStructure += \"        }\" + eol\n",
    "updateStructure += \"        v.target.value = clone[a];\" + eol\n",
    "updateStructure += \"        return clone;\" + eol\n",
    "updateStructure += \"      }\" + eol\n",
    "updateStructure += \"      v.target.value = e[a];\" + eol\n",
    "updateStructure += \"      return e;\" + eol\n",
    "updateStructure += \"    }\" + eol\n",
    "updateStructure += \"    return e;\" + eol\n",
    "updateStructure += \"  })\" + eol\n",
    "updateStructure += \"  if(a=='L'){\" + eol\n",
    "updateStructure += \"      v.target.value = v.target.value+'nm';\" + eol\n",
    "updateStructure += \"  } else if(a=='V'){\" + eol\n",
    "updateStructure += \"      v.target.value = v.target.value+'V';\" + eol\n",
    "updateStructure += \"  } else if(a=='m'){\" + eol\n",
    "updateStructure += \"      v.target.value = v.target.value+' - m*';\" + eol\n",
    "updateStructure += \"  }\" + eol\n",
    "#updateStructure += \"  c.setState({'wells' : Math.floor(new_state.length/2)});\" + eol\n",
    "updateStructure += \"  if (c.timeout){\" + eol\n",
    "updateStructure += \"    clearTimeout(c.timeout)\" + eol\n",
    "updateStructure += \"  }\" + eol\n",
    "updateStructure += \"  c.timeout = setTimeout(()=>{ c.props.onChange( new_state ) }, 20);\" + eol\n",
    "updateStructure += \"}\" + eol\n",
    "PCPBTComponent.addPropVariable(\"updateStructure\", {\n",
    "    \"type\": \"func\",\n",
    "    \"defaultValue\": updateStructure\n",
    "})\n",
    "\n",
    "updateEnter = \"\"\n",
    "updateEnter += \"(c,i,a,v)=>{ \" + eol\n",
    "updateEnter += \"  if (v.key === 'Enter') { \" + eol\n",
    "updateEnter += \"    v.preventDefault(); \" + eol\n",
    "updateEnter += \"    v.target.blur()\" + eol\n",
    "updateEnter += \"  }\" + eol\n",
    "updateEnter += \"}\" + eol\n",
    "PCPBTComponent.addPropVariable(\"updateEnter\", {\n",
    "    \"type\": \"func\",\n",
    "    \"defaultValue\": updateEnter\n",
    "})\n",
    "\n",
    "PCPBTComponent.addPropVariable(\"onUpdate\", {\n",
    "    \"type\": \"func\",\n",
    "    \"defaultValue\": \"(self)=>{if (self.state.wells != Math.floor(self.props.device.length/2)) self.setState({'wells': Math.floor(self.props.device.length/2)});}\"\n",
    "})\n",
    "clearValue = \"\"\n",
    "clearValue += \"(c,i,a,v)=>{ \" + eol\n",
    "clearValue += \"  if(a=='L')\" + eol\n",
    "clearValue += \"    v.target.value = v.target.value.replace('nm','');\" + eol\n",
    "clearValue += \"  else if(a=='V')\" + eol\n",
    "clearValue += \"    v.target.value = v.target.value.replace('V','');\" + eol\n",
    "clearValue += \"  else if(a=='m')\" + eol\n",
    "clearValue += \"    v.target.value = v.target.value.replace('- m*','');\" + eol\n",
    "clearValue += \"  v.target.select();\" + eol\n",
    "clearValue += \"}\" + eol\n",
    "PCPBTComponent.addPropVariable(\"clearValue\", {\n",
    "    \"type\": \"func\",\n",
    "    \"defaultValue\": clearValue\n",
    "})\n",
    "\n",
    "TextDiv = t.TeleportElement(t.TeleportContent(elementType=\"div\"))\n",
    "TextDiv.content.style = '''${\n",
    "    'position' : 'absolute',\n",
    "    'top' : 5,\n",
    "    'left' : self.props.device.slice(0, index).reduce((sum, v) => sum + Math.max(v.L,''' + minwell + ''')*''' + scalex + ''', 0) + ''' + str(\n",
    "    shadow) + ''',\n",
    "    'width' : Math.max(local.L,''' + minwell + ''')*''' + scalex + ''' ,\n",
    "    'text-align' : 'center'\n",
    "}'''\n",
    "TextInput = t.TeleportElement(t.TeleportContent(elementType=\"input\"))\n",
    "TextInput.content.attrs[\"defaultValue\"] = \"$local.L + 'nm'\"\n",
    "\n",
    "TextInput.content.style = {\n",
    "    \"background\": \"transparent\",\n",
    "    \"border\": \"none\",\n",
    "    \"width\": \"100%\",\n",
    "    \"text-align\": \"center\"\n",
    "}\n",
    "\n",
    "TextInput.content.events[\"blur\"] = [{\n",
    "    \"type\": \"propCall2\",\n",
    "    \"calls\": \"updateStructure\",\n",
    "    \"args\": [\"self\", \"index\", \"'L'\", 'e']\n",
    "}]\n",
    "\n",
    "TextInput.content.events[\"focus\"] = [{\n",
    "    \"type\": \"propCall2\",\n",
    "    \"calls\": \"clearValue\",\n",
    "    \"args\": [\"self\", \"index\", \"'L'\", 'e']\n",
    "}]\n",
    "\n",
    "TextInput.content.events[\"keypress\"] = [{\n",
    "    \"type\": \"propCall2\",\n",
    "    \"calls\": \"updateEnter\",\n",
    "    \"args\": [\"self\", \"index\", \"'L'\", 'e']\n",
    "}]\n",
    "\n",
    "TextDiv.addContent(TextInput)\n",
    "\n",
    "RepeatText = t.TeleportRepeat(TextDiv)\n",
    "RepeatText.iteratorName = \"local\"\n",
    "RepeatText.dataSource = {\n",
    "    \"type\": \"dynamic\",\n",
    "    \"content\": {\n",
    "        \"referenceType\": \"prop\",\n",
    "        \"id\": \"device\"\n",
    "    }\n",
    "}\n",
    "\n",
    "Container.addContent(RepeatText)\n",
    "\n",
    "TextDiv2 = t.TeleportElement(t.TeleportContent(elementType=\"div\"))\n",
    "TextDiv2.content.style = '''${\n",
    "    'position' : 'absolute',\n",
    "    'top' :  ''' + str(maxV * scaley) + ''' -20 + ''' + str(base) + ''',\n",
    "    'left' : self.props.device.slice(0, index).reduce((sum, v) => sum + Math.max(v.L,''' + minwell + ''')*''' + scalex + ''', 0) + ''' + str(\n",
    "    shadow) + ''',\n",
    "    'width' : Math.max(local.L,''' + minwell + ''')*''' + scalex + ''' ,\n",
    "    'text-align' : 'center'\n",
    "}'''\n",
    "TextInput2 = t.TeleportElement(t.TeleportContent(elementType=\"input\"))\n",
    "TextInput2.content.attrs[\"defaultValue\"] = \"$local.V + 'V'\"\n",
    "TextInput2.content.style = {\n",
    "    \"background\": \"transparent\",\n",
    "    \"border\": \"none\",\n",
    "    \"width\": \"100%\",\n",
    "    \"text-align\": \"center\"\n",
    "}\n",
    "\n",
    "TextInput2.content.events[\"blur\"] = [{\n",
    "    \"type\": \"propCall2\",\n",
    "    \"calls\": \"updateStructure\",\n",
    "    \"args\": [\"self\", \"index\", \"'V'\", 'e']\n",
    "}]\n",
    "\n",
    "TextInput2.content.events[\"focus\"] = [{\n",
    "    \"type\": \"propCall2\",\n",
    "    \"calls\": \"clearValue\",\n",
    "    \"args\": [\"self\", \"index\", \"'V'\", 'e']\n",
    "}]\n",
    "\n",
    "TextInput2.content.events[\"keypress\"] = [{\n",
    "    \"type\": \"propCall2\",\n",
    "    \"calls\": \"updateEnter\",\n",
    "    \"args\": [\"self\", \"index\", \"'V'\", 'e']\n",
    "}]\n",
    "\n",
    "TextDiv2.addContent(TextInput2)\n",
    "\n",
    "RepeatText2 = t.TeleportRepeat(TextDiv2)\n",
    "RepeatText2.iteratorName = \"local\"\n",
    "RepeatText2.dataSource = {\n",
    "    \"type\": \"dynamic\",\n",
    "    \"content\": {\n",
    "        \"referenceType\": \"prop\",\n",
    "        \"id\": \"device\"\n",
    "    }\n",
    "}\n",
    "\n",
    "Container.addContent(RepeatText2)\n",
    "\n",
    "TextDiv3 = t.TeleportElement(t.TeleportContent(elementType=\"div\"))\n",
    "TextDiv3.content.style = '''${\n",
    "    'position' : 'absolute',\n",
    "    'top' :  ''' + str(maxV * scaley / 2) + ''' -20 + ''' + str(base) + ''',\n",
    "    'left' : self.props.device.slice(0, index).reduce((sum, v) => sum + Math.max(v.L,''' + minwell + ''')*''' + scalex + ''', 0) + ''' + str(\n",
    "    shadow) + ''',\n",
    "    'width' : Math.max(local.L,''' + minwell + ''')*''' + scalex + ''' ,\n",
    "    'text-align' : 'center'\n",
    "}'''\n",
    "TextInput3 = t.TeleportElement(t.TeleportContent(elementType=\"div\"))\n",
    "TextInput3.content.style = '''${\n",
    "    'position' : 'absolute',\n",
    "    'top' :  ''' + str(maxV * scaley) + ''' -20 + ''' + str(base) + ''',\n",
    "    'left' : self.props.device.slice(0, index).reduce((sum, v) => sum + Math.max(v.L,''' + minwell + ''')*''' + scalex + ''', 0) + ''' + str(\n",
    "    shadow) + ''',\n",
    "    'width' : Math.max(local.L,''' + minwell + ''')*''' + scalex + ''' ,\n",
    "    'text-align' : 'center'\n",
    "}'''\n",
    "TextInput3 = t.TeleportElement(t.TeleportContent(elementType=\"input\"))\n",
    "TextInput3.content.attrs[\"defaultValue\"] = \"$local.m + '- m*'\"\n",
    "TextInput3.content.style = {\n",
    "    \"background\": \"transparent\",\n",
    "    \"border\": \"none\",\n",
    "    \"width\": \"100%\",\n",
    "    \"text-align\": \"center\"\n",
    "}\n",
    "\n",
    "TextInput3.content.events[\"blur\"] = [{\n",
    "    \"type\": \"propCall2\",\n",
    "    \"calls\": \"updateStructure\",\n",
    "    \"args\": [\"self\", \"index\", \"'m'\", 'e']\n",
    "}]\n",
    "\n",
    "TextInput3.content.events[\"focus\"] = [{\n",
    "    \"type\": \"propCall2\",\n",
    "    \"calls\": \"clearValue\",\n",
    "    \"args\": [\"self\", \"index\", \"'m'\", 'e']\n",
    "}]\n",
    "\n",
    "TextInput3.content.events[\"keypress\"] = [{\n",
    "    \"type\": \"propCall2\",\n",
    "    \"calls\": \"updateEnter\",\n",
    "    \"args\": [\"self\", \"index\", \"'m'\", 'e']\n",
    "}]\n",
    "\n",
    "TextDiv3.addContent(TextInput3)\n",
    "\n",
    "RepeatText3 = t.TeleportRepeat(TextDiv3)\n",
    "RepeatText3.iteratorName = \"local\"\n",
    "RepeatText3.dataSource = {\n",
    "    \"type\": \"dynamic\",\n",
    "    \"content\": {\n",
    "        \"referenceType\": \"prop\",\n",
    "        \"id\": \"device\"\n",
    "    }\n",
    "}\n",
    "\n",
    "Container.addContent(RepeatText3)\n",
    "\n",
    "Container.addContent(Svg)\n",
    "\n",
    "Svg.addContent(Wells)\n",
    "\n",
    "buildStructure = \"\"\n",
    "buildStructure += \"(c,v)=>{ \" + eol\n",
    "buildStructure += \"  let new_state = [];\" + eol\n",
    "buildStructure += \"  for (let counti = 0; counti<(2*v)+1; counti++){\" + eol\n",
    "buildStructure += \"    if(counti < (c.props.device.length)){\" + eol\n",
    "buildStructure += \"      new_state.push(c.props.device[counti]);\" + eol\n",
    "buildStructure += \"    } else if (counti %2==0){\" + eol\n",
    "buildStructure += \"      new_state.push({'L': 4, 'V': 0, 'm': 0.067});\" + eol\n",
    "buildStructure += \"    } else {\" + eol\n",
    "buildStructure += \"      new_state.push({'L': 2, 'V': 0.4, 'm': 0.067});\" + eol\n",
    "buildStructure += \"    }\" + eol\n",
    "buildStructure += \"  }\" + eol\n",
    "#buildStructure += \"  c.setState({'wells' : Math.floor(new_state.length/2)});\" + eol\n",
    "buildStructure += \"  if (c.timeout){\" + eol\n",
    "buildStructure += \"    clearTimeout(c.timeout)\" + eol\n",
    "buildStructure += \"  }\" + eol\n",
    "buildStructure += \"  c.timeout = setTimeout(()=>{ c.props.onChange( new_state ) }, 20);\" + eol\n",
    "buildStructure += \"}\" + eol\n",
    "PCPBTComponent.addPropVariable(\"buildStructure\", {\n",
    "    \"type\": \"func\",\n",
    "    \"defaultValue\": buildStructure\n",
    "})\n",
    "\n",
    "PCPBTComponent.addStateVariable(\"wells\", {\"type\": \"integer\",\"defaultValue\": '$Math.floor(props.device.length/2)'})\n",
    "\n",
    "SelectWells = FormHelper.Select(\n",
    "    PCPBTComponent, \"Select number of Wells\", \"Select number of Wells\",\n",
    "    'wells', \n",
    "    0\n",
    "    , {\n",
    "        i + 1: str(i + 1) + \" barriers, \" + str(2 * i + 1) +\n",
    "        \" domains of different lengths and potential heights\"\n",
    "        for i in range(10)\n",
    "    })\n",
    "\n",
    "SelectWells.content.events[\"change\"].append({\n",
    "    \"type\": \"propCall2\",\n",
    "    \"calls\": \"buildStructure\",\n",
    "    \"args\": [\"self\", 'e.target.value']\n",
    "})\n",
    "\n",
    "Paper.addContent(SelectWells)\n",
    "Paper.addContent(Container)\n",
    "\n",
    "\n",
    "PCPBTComponent.addPropVariable(\"device\", {\"type\": \"array\",\"defaultValue\": []})\n",
    "\n",
    "\n",
    "\n",
    "\n",
    "PCPBTComponent.addPropVariable(\"onChange\", {\n",
    "    \"type\": \"func\",\n",
    "    \"defaultValue\": \"(e)=>{return e; }\"\n",
    "})\n",
    "\n"
   ]
  },
  {
   "cell_type": "code",
   "execution_count": 11,
   "id": "80e86920",
   "metadata": {
    "ExecuteTime": {
     "end_time": "2023-02-24T00:20:33.621671Z",
     "start_time": "2023-02-24T00:20:33.617555Z"
    },
    "deletable": false,
    "editable": false,
    "run_control": {
     "frozen": true
    }
   },
   "outputs": [],
   "source": [
    "s.components[\"PCPBTComponent\"] = PCPBTComponent \n",
    "s.params[\"device\"] = t.TeleportElement(t.TeleportContent(elementType=\"PCPBTComponent\"))\n",
    "s.params[\"device\"].content.style = {\n",
    "  \"height\": \"inherit\",\n",
    "  \"width\": \"inherit\",\n",
    "}\n",
    "s.params[\"device\"].content.attrs[\"device\"] = {\n",
    "    \"type\": \"dynamic\",\n",
    "    \"content\": {\n",
    "        \"referenceType\": \"prop\",\n",
    "        \"id\": \"parameters.device\"\n",
    "    }    \n",
    "}\n"
   ]
  },
  {
   "cell_type": "code",
   "execution_count": null,
   "id": "00ce9516",
   "metadata": {
    "ExecuteTime": {
     "end_time": "2023-02-24T00:20:33.636904Z",
     "start_time": "2023-02-24T00:20:33.623682Z"
    }
   },
   "outputs": [],
   "source": []
  },
  {
   "cell_type": "code",
   "execution_count": 6,
   "id": "78abcdfb",
   "metadata": {
    "ExecuteTime": {
     "end_time": "2023-02-24T01:56:30.217537Z",
     "start_time": "2023-02-24T01:56:30.195978Z"
    }
   },
   "outputs": [
    {
     "name": "stdout",
     "output_type": "stream",
     "text": [
      "copying https://unpkg.com/react@16.8.6/umd/react.production.min.js\n",
      "already downloaded react\n",
      "copying https://unpkg.com/react-dom@16.8.6/umd/react-dom.production.min.js\n",
      "already downloaded react-dom\n",
      "copying https://unpkg.com/@material-ui/core@4.12.3/umd/material-ui.production.min.js\n",
      "already downloaded material-ui\n",
      "copying https://unpkg.com/material-ui-lab-umd@4.0.0-alpha.32/material-ui-lab.development.js\n",
      "already downloaded materiallab-ui\n",
      "copying https://unpkg.com/react-plotly.js@2.6.0/dist/create-plotly-component.js\n",
      "already downloaded plotlycomponent\n",
      "copying https://cdn.plot.ly/plotly-latest.min.js\n",
      "already downloaded plotly\n",
      "copying https://cdnjs.cloudflare.com/ajax/libs/mathjs/6.6.1/math.min.js\n",
      "already downloaded math\n",
      "copying https://unpkg.com/axios/dist/axios.min.js\n",
      "already downloaded axios\n",
      "copying https://www.unpkg.com/localforage@1.7.3/dist/localforage.min.js\n",
      "already downloaded localforage\n",
      "copying https://unpkg.com/react-number-format@4.3.1/dist/react-number-format.js\n",
      "already downloaded number-format\n",
      "copying https://unpkg.com/prop-types@15.6/prop-types.min.js\n",
      "already downloaded prop-types\n",
      "copying https://cdnjs.cloudflare.com/ajax/libs/require.js/2.3.6/require.min.js\n",
      "already downloaded require\n",
      "building HTML \n",
      "done!\n",
      "https://proxy.nanohub.org/weber/2163531/4zR6ixKMr1itlvZR/23/uidl/INTROTOSIMTOOLS.HTML/local/sim2lbuilder/examples/INTROTOSIMTOOLS.HTML\n"
     ]
    }
   ],
   "source": [
    "s.assemble(jupyter_notebook_url=jupyter_notebook_url, copy_libraries=True)"
   ]
  },
  {
   "cell_type": "code",
   "execution_count": null,
   "id": "b336ac9b",
   "metadata": {
    "ExecuteTime": {
     "end_time": "2023-02-23T16:09:37.796974Z",
     "start_time": "2023-02-23T16:09:37.793635Z"
    }
   },
   "outputs": [],
   "source": []
  },
  {
   "cell_type": "code",
   "execution_count": null,
   "id": "3a863898",
   "metadata": {
    "ExecuteTime": {
     "end_time": "2023-02-23T22:09:42.368593Z",
     "start_time": "2023-02-23T22:09:42.366419Z"
    }
   },
   "outputs": [],
   "source": []
  },
  {
   "cell_type": "code",
   "execution_count": null,
   "id": "797b323c",
   "metadata": {},
   "outputs": [],
   "source": []
  },
  {
   "cell_type": "code",
   "execution_count": 7,
   "id": "56659516",
   "metadata": {
    "ExecuteTime": {
     "end_time": "2023-02-24T01:56:30.237580Z",
     "start_time": "2023-02-24T01:56:30.219921Z"
    }
   },
   "outputs": [
    {
     "data": {
      "text/plain": [
       "{'booleanValue': {'type': 'output.Boolean',\n",
       "  'description': 'Execute bogus save operations',\n",
       "  'value': False},\n",
       " 'textString': {'type': 'output.Text',\n",
       "  'description': 'Text supplied as string',\n",
       "  'value': 'textString'},\n",
       " 'textFile': {'type': 'output.Text', 'description': 'Text supplied as file'},\n",
       " 'tagString': {'type': 'output.Tag',\n",
       "  'description': 'Searchable tag supplied as string',\n",
       "  'value': 'tagString'},\n",
       " 'integerValue': {'type': 'output.Integer',\n",
       "  'description': 'Simple integer',\n",
       "  'min': None,\n",
       "  'max': None,\n",
       "  'value': 10},\n",
       " 'numberValue': {'type': 'output.Number',\n",
       "  'description': 'Simple number',\n",
       "  'min': 0.0,\n",
       "  'max': 100.0,\n",
       "  'value': 10.5},\n",
       " 'arrayValue': {'type': 'output.Array',\n",
       "  'description': 'Array of numbers',\n",
       "  'min': None,\n",
       "  'max': None,\n",
       "  'value': [1, 2, 3]},\n",
       " 'arrayFile': {'type': 'output.Array',\n",
       "  'description': 'Array as file',\n",
       "  'min': None,\n",
       "  'max': None},\n",
       " 'listValue': {'type': 'output.List',\n",
       "  'description': 'List of values',\n",
       "  'value': ['one', 'two', 'three']},\n",
       " 'listFile': {'type': 'output.List', 'description': 'List as file'},\n",
       " 'dictValue': {'type': 'output.Dict',\n",
       "  'description': 'Dict of values',\n",
       "  'value': {'one': 2, 'two': 2, 'three': 3}},\n",
       " 'dictFile': {'type': 'output.Dict', 'description': 'Dict as file'},\n",
       " 'imageValue': {'type': 'output.Image', 'description': 'Image as value'},\n",
       " 'imageFile': {'type': 'output.Image', 'description': 'Image as file'},\n",
       " 'choiceValue': {'type': 'output.Choice',\n",
       "  'description': 'Pick option from choices',\n",
       "  'options': ['pear', 'apple', 'banana', 'grape', 'orange'],\n",
       "  'value': 'pear'},\n",
       " 'fileFile': {'type': 'output.File', 'description': 'File as file'},\n",
       " 'elementValue': {'property': 'symbol',\n",
       "  'type': 'output.Element',\n",
       "  'description': 'Element as value',\n",
       "  'value': 'Ni'}}"
      ]
     },
     "execution_count": 7,
     "metadata": {},
     "output_type": "execute_result"
    }
   ],
   "source": [
    "schema['outputs']"
   ]
  },
  {
   "cell_type": "code",
   "execution_count": null,
   "id": "8b071197",
   "metadata": {
    "ExecuteTime": {
     "end_time": "2023-02-23T22:09:42.411144Z",
     "start_time": "2023-02-23T22:09:42.370480Z"
    },
    "scrolled": true
   },
   "outputs": [],
   "source": []
  },
  {
   "cell_type": "code",
   "execution_count": null,
   "id": "bb164b64",
   "metadata": {
    "ExecuteTime": {
     "end_time": "2023-02-23T21:50:47.756833Z",
     "start_time": "2023-02-23T21:50:47.754421Z"
    }
   },
   "outputs": [],
   "source": []
  },
  {
   "cell_type": "code",
   "execution_count": null,
   "id": "8f1e5468",
   "metadata": {
    "ExecuteTime": {
     "end_time": "2023-02-23T21:50:52.413631Z",
     "start_time": "2023-02-23T21:50:52.410772Z"
    }
   },
   "outputs": [],
   "source": []
  },
  {
   "cell_type": "code",
   "execution_count": null,
   "id": "998b275c",
   "metadata": {
    "ExecuteTime": {
     "end_time": "2023-02-23T19:13:21.532271Z",
     "start_time": "2023-02-23T19:13:21.522133Z"
    }
   },
   "outputs": [],
   "source": []
  },
  {
   "cell_type": "code",
   "execution_count": null,
   "id": "1bf09683",
   "metadata": {
    "ExecuteTime": {
     "end_time": "2023-02-23T19:13:21.545365Z",
     "start_time": "2023-02-23T19:13:21.534624Z"
    }
   },
   "outputs": [],
   "source": []
  },
  {
   "cell_type": "code",
   "execution_count": null,
   "id": "41498300",
   "metadata": {},
   "outputs": [],
   "source": []
  }
 ],
 "metadata": {
  "kernelspec": {
   "display_name": "Python 3 (ipykernel)",
   "language": "python",
   "name": "python3"
  },
  "language_info": {
   "codemirror_mode": {
    "name": "ipython",
    "version": 3
   },
   "file_extension": ".py",
   "mimetype": "text/x-python",
   "name": "python",
   "nbconvert_exporter": "python",
   "pygments_lexer": "ipython3",
   "version": "3.8.10"
  },
  "toc": {
   "base_numbering": 1,
   "nav_menu": {},
   "number_sections": true,
   "sideBar": true,
   "skip_h1_title": false,
   "title_cell": "Table of Contents",
   "title_sidebar": "Contents",
   "toc_cell": false,
   "toc_position": {},
   "toc_section_display": true,
   "toc_window_display": false
  },
  "varInspector": {
   "cols": {
    "lenName": 16,
    "lenType": 16,
    "lenVar": 40
   },
   "kernels_config": {
    "python": {
     "delete_cmd_postfix": "",
     "delete_cmd_prefix": "del ",
     "library": "var_list.py",
     "varRefreshCmd": "print(var_dic_list())"
    },
    "r": {
     "delete_cmd_postfix": ") ",
     "delete_cmd_prefix": "rm(",
     "library": "var_list.r",
     "varRefreshCmd": "cat(var_dic_list()) "
    }
   },
   "types_to_exclude": [
    "module",
    "function",
    "builtin_function_or_method",
    "instance",
    "_Feature"
   ],
   "window_display": false
  }
 },
 "nbformat": 4,
 "nbformat_minor": 5
}
