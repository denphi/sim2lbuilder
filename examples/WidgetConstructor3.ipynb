{
 "cells": [
  {
   "cell_type": "code",
   "execution_count": null,
   "metadata": {},
   "outputs": [],
   "source": [
    "from sim2lbuilder import WidgetConstructor, simtool_constructor"
   ]
  },
  {
   "cell_type": "code",
   "execution_count": null,
   "metadata": {},
   "outputs": [],
   "source": [
    "%reload_ext yamlmagic\n",
    "%matplotlib inline"
   ]
  },
  {
   "cell_type": "code",
   "execution_count": null,
   "metadata": {},
   "outputs": [],
   "source": [
    "from IPython.utils.importstring  import import_item\n",
    "yaml = import_item(\"yaml.SafeLoader\")\n",
    "yaml.add_constructor('!simtool', simtool_constructor)"
   ]
  },
  {
   "cell_type": "code",
   "execution_count": null,
   "metadata": {
    "scrolled": false
   },
   "outputs": [],
   "source": [
    "%%yaml\n",
    "defaults: &defaults\n",
    "   layout:  \n",
    "       width : auto\n",
    "inputs: !simtool st4pnjunction inputs\n",
    "outputs:\n",
    "    Efn:\n",
    "        type: FigureWidget\n",
    "        module: plotly.graph_objects\n",
    "layout:\n",
    "    type: HBox\n",
    "    children: \n",
    "        inputs :\n",
    "            layout:\n",
    "                width : 300px\n",
    "            type: VBox\n",
    "            children: !simtool st4pnjunction inputs keys     \n",
    "        outputs :\n",
    "            type: VBox\n",
    "            children: \n",
    "                button:\n",
    "                    type : Button  \n",
    "                    click : RunSimTool\n",
    "                    description : Run SimTool\n",
    "                Efn:\n"
   ]
  },
  {
   "cell_type": "code",
   "execution_count": null,
   "metadata": {
    "scrolled": false
   },
   "outputs": [],
   "source": [
    "def RunSimTool(widget, *kargs):\n",
    "    import simtool\n",
    "    import plotly.graph_objects as go\n",
    "    Efn = widget.outputs[\"Efn\"]\n",
    "    tool = \"st4pnjunction\"\n",
    "    stl = simtool.searchForSimTool(tool)\n",
    "    inputs = simtool.getSimToolInputs(stl)\n",
    "    for i,w in widget.inputs.items():\n",
    "        inputs[i].value = w.value\n",
    "    r = simtool.Run(stl, inputs)\n",
    "    plot = r.read('Efn')\n",
    "    Efn.data = []\n",
    "    Efn.add_trace(\n",
    "        go.Scatter(x=plot['position'], y=plot['function'], mode='lines', name='Efn')\n",
    "    )\n",
    "    Efn.update_layout(title_text=\"Efn Plot\", title_font_size=30)\n",
    "\n",
    "s = WidgetConstructor(_)\n",
    "s.RunSimTool = RunSimTool\n",
    "s.assemble()\n",
    "s"
   ]
  },
  {
   "cell_type": "code",
   "execution_count": null,
   "metadata": {},
   "outputs": [],
   "source": []
  },
  {
   "cell_type": "code",
   "execution_count": null,
   "metadata": {},
   "outputs": [],
   "source": []
  },
  {
   "cell_type": "code",
   "execution_count": null,
   "metadata": {},
   "outputs": [],
   "source": []
  }
 ],
 "metadata": {
  "kernelspec": {
   "display_name": "Python 3 (ipykernel)",
   "language": "python",
   "name": "python3"
  },
  "language_info": {
   "codemirror_mode": {
    "name": "ipython",
    "version": 3
   },
   "file_extension": ".py",
   "mimetype": "text/x-python",
   "name": "python",
   "nbconvert_exporter": "python",
   "pygments_lexer": "ipython3",
   "version": "3.8.10"
  }
 },
 "nbformat": 4,
 "nbformat_minor": 2
}
