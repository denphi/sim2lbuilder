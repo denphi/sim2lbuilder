{
 "cells": [
  {
   "cell_type": "code",
   "execution_count": null,
   "metadata": {
    "ExecuteTime": {
     "end_time": "2022-04-04T17:36:35.884282Z",
     "start_time": "2022-04-04T17:36:35.650879Z"
    },
    "scrolled": false
   },
   "outputs": [],
   "source": [
    "from sim2lbuilder import WidgetConstructor, GetSimtoolDefaultSchema\n",
    "from simtool import searchForSimTool, getSimToolInputs, Run\n",
    "import io\n",
    "schema = GetSimtoolDefaultSchema(\"meltingkim\")\n",
    "schema[\"inputs\"][\"Tsolid\"][\"type\"] = 'BoundedIntText'\n",
    "schema[\"inputs\"][\"Tliquid\"][\"type\"] = 'BoundedIntText'\n",
    "schema[\"inputs\"][\"run_time\"][\"type\"] = 'BoundedIntText'\n",
    "schema[\"outputs\"][\"final_snapshot\"][\"type\"] = 'Image'\n",
    "schema[\"outputs\"][\"final_snapshot\"][\"layout\"] = {\"width\" : '50%'}\n",
    "\n",
    "def RunSimTool(widget, *kargs):\n",
    "    stl = searchForSimTool(\"meltingkim\")\n",
    "    inputs =getSimToolInputs(stl)\n",
    "    for i,w in widget.inputs.items():\n",
    "        inputs[i].value = w.value\n",
    "    r = Run(stl, inputs)\n",
    "    for outk, out in widget.outputs.items():\n",
    "        if outk == \"final_snapshot\":\n",
    "            img = r.read(outk)\n",
    "            byte_io = io.BytesIO()\n",
    "            img.save(byte_io, img.format)\n",
    "            out.format = img.format\n",
    "            out.value = byte_io.getvalue()\n",
    "        else: \n",
    "            with out:\n",
    "                print(r.read(outk))\n",
    "                \n",
    "s = WidgetConstructor(schema)\n",
    "s.RunSimTool = RunSimTool\n",
    "s.assemble()\n",
    "s"
   ]
  },
  {
   "cell_type": "code",
   "execution_count": null,
   "metadata": {
    "ExecuteTime": {
     "end_time": "2022-04-04T17:30:50.443234Z",
     "start_time": "2022-04-04T17:30:50.428936Z"
    }
   },
   "outputs": [],
   "source": []
  },
  {
   "cell_type": "code",
   "execution_count": null,
   "metadata": {},
   "outputs": [],
   "source": []
  },
  {
   "cell_type": "code",
   "execution_count": null,
   "metadata": {},
   "outputs": [],
   "source": []
  }
 ],
 "metadata": {
  "kernelspec": {
   "display_name": "Python 3 (ipykernel)",
   "language": "python",
   "name": "python3"
  },
  "language_info": {
   "codemirror_mode": {
    "name": "ipython",
    "version": 3
   },
   "file_extension": ".py",
   "mimetype": "text/x-python",
   "name": "python",
   "nbconvert_exporter": "python",
   "pygments_lexer": "ipython3",
   "version": "3.8.10"
  },
  "toc": {
   "base_numbering": 1,
   "nav_menu": {},
   "number_sections": true,
   "sideBar": true,
   "skip_h1_title": false,
   "title_cell": "Table of Contents",
   "title_sidebar": "Contents",
   "toc_cell": false,
   "toc_position": {},
   "toc_section_display": true,
   "toc_window_display": false
  },
  "varInspector": {
   "cols": {
    "lenName": 16,
    "lenType": 16,
    "lenVar": 40
   },
   "kernels_config": {
    "python": {
     "delete_cmd_postfix": "",
     "delete_cmd_prefix": "del ",
     "library": "var_list.py",
     "varRefreshCmd": "print(var_dic_list())"
    },
    "r": {
     "delete_cmd_postfix": ") ",
     "delete_cmd_prefix": "rm(",
     "library": "var_list.r",
     "varRefreshCmd": "cat(var_dic_list()) "
    }
   },
   "types_to_exclude": [
    "module",
    "function",
    "builtin_function_or_method",
    "instance",
    "_Feature"
   ],
   "window_display": false
  }
 },
 "nbformat": 4,
 "nbformat_minor": 2
}
