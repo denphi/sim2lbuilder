{
 "cells": [
  {
   "cell_type": "markdown",
   "metadata": {},
   "source": [
    "# Create a new Graphical user interface\n",
    "Define parameters inputs/outputs\n",
    "<pre><code>\n",
    "inputs : \n",
    "    INPUT_NAME : # required\n",
    "        type : IPYWIDGET_TYPE # required\n",
    "        module : MODULE # optional\n",
    "        layout : layout # optional\n",
    "        parameters ...\n",
    "outputs : #optional\n",
    "    OUTPUT_NAME : # required\n",
    "        type : IPYWIDGET_TYPE # required\n",
    "        module : MODULE # optional\n",
    "        layout : layout # optional\n",
    "        parameters ...\n",
    "</code></pre>\n",
    "\n",
    "More details for parameters [input types](inputtypes.ipynb), [output types](outputtypes.ipynb)."
   ]
  },
  {
   "cell_type": "markdown",
   "metadata": {},
   "source": [
    "## Define paremeters as Json"
   ]
  },
  {
   "cell_type": "code",
   "execution_count": null,
   "metadata": {},
   "outputs": [],
   "source": [
    "import json\n",
    "json.loads(\"\"\"{\n",
    "    \"inputs\": {\n",
    "        \"optionlist\": {\n",
    "            \"type\": \"Dropdown\",\n",
    "            \"options\": [\"1\", \"2\", \"3\"],\n",
    "            \"value\": \"2\",\n",
    "            \"description\": \"Number:\"\n",
    "        }\n",
    "    }\n",
    "}\"\"\")"
   ]
  },
  {
   "cell_type": "markdown",
   "metadata": {},
   "source": [
    "## Define parameters as Python objects"
   ]
  },
  {
   "cell_type": "code",
   "execution_count": null,
   "metadata": {},
   "outputs": [],
   "source": [
    "dict(\n",
    "    inputs = dict(\n",
    "        optionlist = dict(\n",
    "            type = 'Dropdown',\n",
    "            options = ['1', '2', '3'],\n",
    "            value = '2',\n",
    "            description = 'Number:'\n",
    "        )\n",
    "    )\n",
    ")"
   ]
  },
  {
   "cell_type": "markdown",
   "metadata": {},
   "source": [
    "## Define paremeters as Python syntax"
   ]
  },
  {
   "cell_type": "code",
   "execution_count": null,
   "metadata": {},
   "outputs": [],
   "source": [
    "{\n",
    "    'inputs': {\n",
    "        'optionlist': {\n",
    "            'type': 'Dropdown',\n",
    "            'options': ['1', '2', '3'],\n",
    "            'value': '2',\n",
    "            'description': 'Number:'\n",
    "        }\n",
    "    }\n",
    "}"
   ]
  },
  {
   "cell_type": "markdown",
   "metadata": {},
   "source": [
    "## Define parameters as YAML\n",
    "load yamlmagic magic world"
   ]
  },
  {
   "cell_type": "code",
   "execution_count": null,
   "metadata": {},
   "outputs": [],
   "source": [
    "%reload_ext yamlmagic"
   ]
  },
  {
   "cell_type": "code",
   "execution_count": null,
   "metadata": {},
   "outputs": [],
   "source": [
    "%%yaml\n",
    "inputs : \n",
    "    optionlist: \n",
    "        type: Dropdown\n",
    "        options: ['1', '2', '3']\n",
    "        value: '2'\n",
    "        description: 'Number:'\n"
   ]
  },
  {
   "cell_type": "markdown",
   "metadata": {},
   "source": [
    "# Define Layout\n",
    "<pre><code>\n",
    "layout: #required\n",
    "    type: CONTAINER_TYPE #required\n",
    "    children: #required\n",
    "        INPUT_NAME : #optional\n",
    "        OUTPUT_NAME : #optional\n",
    "        CONTAINER_NAME : #optional\n",
    "            type: #optional\n",
    "            children: #optional\n",
    "                ...\n",
    "    parameters ... #optional\n",
    "</code></pre>"
   ]
  },
  {
   "cell_type": "code",
   "execution_count": null,
   "metadata": {},
   "outputs": [],
   "source": [
    "%%yaml\n",
    "inputs : \n",
    "    optionlist: \n",
    "        type: Dropdown\n",
    "        options: ['1', '2', '3']\n",
    "        value: '2'\n",
    "        description: 'Number:'\n",
    "outputs : \n",
    "    optiontext: \n",
    "        type: Text\n",
    "        value: This is a Text\n",
    "        description: 'Text:'\n",
    "layout :\n",
    "    type : VBox\n",
    "    children : \n",
    "        optionlist:\n",
    "        optiontext:"
   ]
  },
  {
   "cell_type": "code",
   "execution_count": null,
   "metadata": {},
   "outputs": [],
   "source": [
    "schema = _"
   ]
  },
  {
   "cell_type": "markdown",
   "metadata": {},
   "source": [
    "## Create Widget App"
   ]
  },
  {
   "cell_type": "code",
   "execution_count": null,
   "metadata": {},
   "outputs": [],
   "source": [
    "from sim2lbuilder import WidgetConstructor\n",
    "s = WidgetConstructor(schema)\n",
    "s.display()"
   ]
  },
  {
   "cell_type": "markdown",
   "metadata": {},
   "source": [
    "Above description is equivalent to create the following collection of ipywidgets"
   ]
  },
  {
   "cell_type": "code",
   "execution_count": null,
   "metadata": {},
   "outputs": [],
   "source": [
    "import ipywidgets\n",
    "optionlist = ipywidgets.Dropdown(\n",
    "    options = ['1', '2', '3'],\n",
    "    value = '2',\n",
    "    description = 'Number:',\n",
    "    disabled = False,\n",
    "    layout = ipywidgets.Layout(\n",
    "        width = \"auto\"\n",
    "    )\n",
    ")\n",
    "optiontext = ipywidgets.Text(\n",
    "    value = 'This is a Text',\n",
    "    description = 'Text:',\n",
    "    disabled = False,\n",
    "    layout = ipywidgets.Layout(\n",
    "        width = \"auto\"\n",
    "    )\n",
    ")\n",
    "layout = ipywidgets.VBox(\n",
    "    layout = ipywidgets.Layout(\n",
    "        width = \"auto\"\n",
    "    )\n",
    ")\n",
    "layout.children = [optionlist, optiontext]\n",
    "display(layout)"
   ]
  },
  {
   "cell_type": "markdown",
   "metadata": {},
   "source": [
    "## Create Callback to Functions"
   ]
  },
  {
   "cell_type": "code",
   "execution_count": null,
   "metadata": {},
   "outputs": [],
   "source": [
    "%%yaml\n",
    "inputs : \n",
    "    n1: \n",
    "        type: BoundedIntText\n",
    "        value: 1\n",
    "    n2: \n",
    "        type: BoundedIntText\n",
    "        value: 3\n",
    "    button: \n",
    "        type: Button\n",
    "        click: SUM\n",
    "        description : '='\n",
    "\n",
    "outputs : \n",
    "    sol: \n",
    "        type: IntText\n",
    "layout :\n",
    "    type : HBox\n",
    "    children : \n",
    "        n1:\n",
    "        n2:        \n",
    "        button:\n",
    "        sol:"
   ]
  },
  {
   "cell_type": "code",
   "execution_count": null,
   "metadata": {},
   "outputs": [],
   "source": [
    "from sim2lbuilder import WidgetConstructor\n",
    "s = WidgetConstructor(_)\n",
    "def SUM (w):\n",
    "    w.outputs[\"sol\"].value = w.inputs[\"n1\"].value + w.inputs[\"n2\"].value\n",
    "s.SUM = SUM\n",
    "s.display()\n",
    "SUM(s)"
   ]
  },
  {
   "cell_type": "code",
   "execution_count": null,
   "metadata": {},
   "outputs": [],
   "source": []
  },
  {
   "cell_type": "code",
   "execution_count": null,
   "metadata": {},
   "outputs": [],
   "source": []
  }
 ],
 "metadata": {
  "kernelspec": {
   "display_name": "Python 3",
   "language": "python",
   "name": "python3"
  },
  "language_info": {
   "codemirror_mode": {
    "name": "ipython",
    "version": 3
   },
   "file_extension": ".py",
   "mimetype": "text/x-python",
   "name": "python",
   "nbconvert_exporter": "python",
   "pygments_lexer": "ipython3",
   "version": "3.7.7"
  }
 },
 "nbformat": 4,
 "nbformat_minor": 2
}
