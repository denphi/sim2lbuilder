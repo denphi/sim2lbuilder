{
 "cells": [
  {
   "cell_type": "code",
   "execution_count": 1,
   "metadata": {},
   "outputs": [],
   "source": [
    "from sim2lbuilder import WidgetConstructor, simtool_constructor\n",
    "import numpy as np\n",
    "import plotly.graph_objects as go\n",
    "import matplotlib.pyplot as plt\n",
    "import simtool"
   ]
  },
  {
   "cell_type": "code",
   "execution_count": null,
   "metadata": {},
   "outputs": [],
   "source": [
    "%reload_ext yamlmagic\n",
    "%matplotlib inline"
   ]
  },
  {
   "cell_type": "code",
   "execution_count": null,
   "metadata": {},
   "outputs": [],
   "source": [
    "from IPython.utils.importstring  import import_item\n",
    "yaml = import_item(\"yaml.SafeLoader\")\n",
    "yaml.add_constructor('!simtool', simtool_constructor)"
   ]
  },
  {
   "cell_type": "code",
   "execution_count": null,
   "metadata": {
    "scrolled": false
   },
   "outputs": [],
   "source": [
    "%%yaml\n",
    "inputs: !simtool polymerxtal inputs\n",
    "outputs: !simtool polymerxtal outputs\n",
    "layout:\n",
    "    type: HBox\n",
    "    children: \n",
    "        inputs :\n",
    "            layout:\n",
    "                width : auto\n",
    "            type: VBox\n",
    "            children: !simtool polymerxtal inputs keys     \n",
    "        outputs :\n",
    "            type: VBox\n",
    "            children: \n",
    "                button:\n",
    "                    type : Button  \n",
    "                    click : RunSimTool\n",
    "                    description : Run SimTool\n",
    "                container:\n",
    "                    type: Tab\n",
    "                    children: \n",
    "                        !simtool polymerxtal outputs keys  \n",
    "                    titles: \n",
    "                        !simtool polymerxtal outputs keys  \n"
   ]
  },
  {
   "cell_type": "code",
   "execution_count": null,
   "metadata": {},
   "outputs": [],
   "source": [
    "schema = _"
   ]
  },
  {
   "cell_type": "code",
   "execution_count": null,
   "metadata": {},
   "outputs": [],
   "source": [
    "schema[\"inputs\"][\"monomers\"][\"type\"] = \"BoundedIntText\" # Needed due to bad definition of the simtool"
   ]
  },
  {
   "cell_type": "code",
   "execution_count": null,
   "metadata": {
    "scrolled": false
   },
   "outputs": [],
   "source": [
    "import imolecule\n",
    "def RunSimTool(widget, tool=\"polymerxtal\"):\n",
    "    stl = simtool.searchForSimTool(tool)\n",
    "    inputs = simtool.getSimToolInputs(stl)\n",
    "    for i,w in widget.inputs.items():\n",
    "        inputs[i].value = w.value\n",
    "    r = simtool.Run(stl, inputs)\n",
    "    for outk, out in widget.outputs.items():\n",
    "        if outk == \"PDBview\":\n",
    "            with out:\n",
    "                pdbFile = r.read(outk, raw=True)\n",
    "                imolecule.draw(pdbFile[7:])\n",
    "        else:\n",
    "            with out:\n",
    "                print(r.read(outk))\n",
    "s = WidgetConstructor(schema)\n",
    "s.RunSimTool = RunSimTool\n",
    "s.display()"
   ]
  },
  {
   "cell_type": "code",
   "execution_count": null,
   "metadata": {},
   "outputs": [],
   "source": []
  },
  {
   "cell_type": "code",
   "execution_count": null,
   "metadata": {},
   "outputs": [],
   "source": []
  },
  {
   "cell_type": "code",
   "execution_count": null,
   "metadata": {},
   "outputs": [],
   "source": []
  }
 ],
 "metadata": {
  "kernelspec": {
   "display_name": "Python 3",
   "language": "python",
   "name": "python3"
  },
  "language_info": {
   "codemirror_mode": {
    "name": "ipython",
    "version": 3
   },
   "file_extension": ".py",
   "mimetype": "text/x-python",
   "name": "python",
   "nbconvert_exporter": "python",
   "pygments_lexer": "ipython3",
   "version": "3.7.7"
  }
 },
 "nbformat": 4,
 "nbformat_minor": 2
}
