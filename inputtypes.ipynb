{
 "cells": [
  {
   "cell_type": "code",
   "execution_count": null,
   "metadata": {},
   "outputs": [],
   "source": [
    "from sim2lbuilder import WidgetConstructor"
   ]
  },
  {
   "cell_type": "markdown",
   "metadata": {},
   "source": [
    "## Integers\n",
    "More options can be found here [ipywidgets](https://ipywidgets.readthedocs.io/en/latest/examples/Widget%20List.html)\n",
    "- IntSlider\n",
    "- BoundedIntText\n",
    "- IntText\n",
    "- Dropdown"
   ]
  },
  {
   "cell_type": "code",
   "execution_count": null,
   "metadata": {},
   "outputs": [],
   "source": [
    "schema = {\n",
    "    'inputs': {\n",
    "        'input1' : { 'type': 'IntSlider', 'description' : 'IntSlider'},\n",
    "        'input2' : { 'type': 'BoundedIntText', 'description' : 'BoundedIntText'},\n",
    "        'input3' : { 'type': 'IntText', 'description' : 'IntText'},\n",
    "        'input4' : { 'type': 'Dropdown', 'description' : 'Dropdown', 'options' :[1,2], 'value' : 2}\n",
    "\n",
    "    },\n",
    "    'layout' : {\n",
    "        'type' : 'VBox',\n",
    "        'children' : {\n",
    "            'input1' : None, 'input2' : None, 'input3' : None   , 'input4' : None       \n",
    "        }\n",
    "    }\n",
    "}\n",
    "s = WidgetConstructor(schema)\n",
    "s.display()"
   ]
  },
  {
   "cell_type": "markdown",
   "metadata": {},
   "source": [
    "## Numbers\n",
    "More options can be found here [ipywidgets](https://ipywidgets.readthedocs.io/en/latest/examples/Widget%20List.html)\n",
    "- FloatSlider\n",
    "- BoundedFloatText\n",
    "- FloatText\n",
    "- FloatLogSlider\n",
    "- Dropdown"
   ]
  },
  {
   "cell_type": "code",
   "execution_count": null,
   "metadata": {},
   "outputs": [],
   "source": [
    "schema = {\n",
    "    'inputs': {\n",
    "        'input1' : { 'type': 'FloatSlider', 'description' : 'FloatSlider'},\n",
    "        'input2' : { 'type': 'BoundedFloatText', 'description' : 'BoundedFloatText'},\n",
    "        'input3' : { 'type': 'FloatText', 'description' : 'FloatText'},\n",
    "        'input4' : { 'type': 'FloatLogSlider', 'description' : 'FloatLogSlider'},\n",
    "        'input5' : { 'type': 'Dropdown', 'description' : 'Dropdown', 'options' :[1.0,2.0], 'value' : 2.0}\n",
    "    },\n",
    "    'layout' : {\n",
    "        'type' : 'VBox',\n",
    "        'children' : {\n",
    "            'input1' : None, 'input2' : None, 'input3' : None, 'input4' : None , 'input5' : None       \n",
    "        }\n",
    "    }\n",
    "}\n",
    "s = WidgetConstructor(schema)\n",
    "s.display()"
   ]
  },
  {
   "cell_type": "markdown",
   "metadata": {},
   "source": [
    "## Strings\n",
    "More options can be found here [ipywidgets](https://ipywidgets.readthedocs.io/en/latest/examples/Widget%20List.html)\n",
    "- Text\n",
    "- Textarea\n",
    "- Combobox\n",
    "- Dropdown"
   ]
  },
  {
   "cell_type": "code",
   "execution_count": null,
   "metadata": {},
   "outputs": [],
   "source": [
    "schema = {\n",
    "    'inputs': {\n",
    "        'input1' : { 'type': 'Text', 'description' : 'Text'},\n",
    "        'input2' : { 'type': 'Textarea', 'description' : 'Textarea'},\n",
    "        'input3' : { 'type': 'Combobox', 'description' : 'Combobox'},\n",
    "        'input4' : { 'type': 'Dropdown', 'description' : 'Dropdown', 'options' :[\"\",\"Selected\"], 'value' : \"\"}\n",
    "    },\n",
    "    'layout' : {\n",
    "        'type' : 'VBox',\n",
    "        'children' : {\n",
    "            'input1' : None, 'input2' : None, 'input3' : None, 'input4' : None     \n",
    "        }\n",
    "    }\n",
    "}\n",
    "s = WidgetConstructor(schema)\n",
    "s.display()"
   ]
  },
  {
   "cell_type": "markdown",
   "metadata": {},
   "source": [
    "## Booleans\n",
    "- ToggleButton\n",
    "- Checkbox\n",
    "- Dropdown"
   ]
  },
  {
   "cell_type": "code",
   "execution_count": null,
   "metadata": {},
   "outputs": [],
   "source": [
    "schema = {\n",
    "    'inputs': {\n",
    "        'input1' : { 'type': 'ToggleButton', 'description' : 'ToggleButton'},\n",
    "        'input2' : { 'type': 'Checkbox', 'description' : 'Checkbox'},\n",
    "        'input3' : { 'type': 'Dropdown', 'description' : 'Dropdown', 'options' :[True,False], 'value' : True}\n",
    "    },\n",
    "    'layout' : {\n",
    "        'type' : 'VBox',\n",
    "        'children' : {\n",
    "            'input1' : None, 'input2' : None, 'input3' : None   \n",
    "        }\n",
    "    }\n",
    "}\n",
    "s = WidgetConstructor(schema)\n",
    "s.display()"
   ]
  },
  {
   "cell_type": "markdown",
   "metadata": {},
   "source": [
    "## Lists \n",
    "- SelectMultiple\n",
    "- TagsInput (coming soon ... ipywidgets 8.X)"
   ]
  },
  {
   "cell_type": "code",
   "execution_count": null,
   "metadata": {},
   "outputs": [],
   "source": [
    "schema = {\n",
    "    'inputs': {\n",
    "        'input1' : { 'type': 'SelectMultiple', 'description' : 'SelectMultiple', 'options' :[\"1\", \"2\", \"3\"], 'value' : [\"1\", \"2\"]},\n",
    "        #'input2' : { 'type': 'TagsInput', 'description' : 'TagsInput', 'options' :[\"1\", \"2\", \"3\"], 'value' : [\"1\", \"2\"]}, # Coming soon...\n",
    "    },\n",
    "    'layout' : {\n",
    "        'type' : 'VBox',\n",
    "        'children' : {\n",
    "            'input1' : None\n",
    "        }\n",
    "    }\n",
    "}\n",
    "s = WidgetConstructor(schema)\n",
    "s.display()"
   ]
  },
  {
   "cell_type": "markdown",
   "metadata": {},
   "source": [
    "## Time Date \n",
    "- DatePicker\n",
    "- TimePicker (coming soon ... ipywidgets 8.X)\n",
    "- DatetimePicker (coming soon ... ipywidgets 8.X)"
   ]
  },
  {
   "cell_type": "code",
   "execution_count": null,
   "metadata": {},
   "outputs": [],
   "source": [
    "schema = {\n",
    "    'inputs': {\n",
    "        'input1' : { 'type': 'DatePicker', 'description' : 'DatePicker'},\n",
    "        #'input2' : { 'type': 'TimePicker', 'description' : 'TimePicker'}, # Coming soon...\n",
    "        #'input3' : { 'type': 'DatetimePicker', 'description' : 'DatetimePicker'}, # Coming soon...\n",
    "    },\n",
    "    'layout' : {\n",
    "        'type' : 'VBox',\n",
    "        'children' : {\n",
    "            'input1' : None\n",
    "        }\n",
    "    }\n",
    "}\n",
    "s = WidgetConstructor(schema)\n",
    "s.display()"
   ]
  },
  {
   "cell_type": "markdown",
   "metadata": {},
   "source": [
    "## Files\n",
    "- FileUpload"
   ]
  },
  {
   "cell_type": "code",
   "execution_count": null,
   "metadata": {},
   "outputs": [],
   "source": [
    "schema = {\n",
    "    'inputs': {\n",
    "        'input1' : { 'type': 'FileUpload', 'description' : 'FileUpload'},\n",
    "    },\n",
    "    'layout' : {\n",
    "        'type' : 'VBox',\n",
    "        'children' : {\n",
    "            'input1' : None\n",
    "        }\n",
    "    }\n",
    "}\n",
    "s = WidgetConstructor(schema)\n",
    "s.display()"
   ]
  },
  {
   "cell_type": "code",
   "execution_count": null,
   "metadata": {},
   "outputs": [],
   "source": []
  }
 ],
 "metadata": {
  "kernelspec": {
   "display_name": "Python 3",
   "language": "python",
   "name": "python3"
  },
  "language_info": {
   "codemirror_mode": {
    "name": "ipython",
    "version": 3
   },
   "file_extension": ".py",
   "mimetype": "text/x-python",
   "name": "python",
   "nbconvert_exporter": "python",
   "pygments_lexer": "ipython3",
   "version": "3.7.7"
  }
 },
 "nbformat": 4,
 "nbformat_minor": 2
}
