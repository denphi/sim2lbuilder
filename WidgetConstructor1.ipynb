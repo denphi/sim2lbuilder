{
 "cells": [
  {
   "cell_type": "code",
   "execution_count": null,
   "metadata": {},
   "outputs": [],
   "source": [
    "from sim2lbuilder import WidgetConstructor\n",
    "import numpy as np\n",
    "import plotly.graph_objects as go\n",
    "import matplotlib.pyplot as plt"
   ]
  },
  {
   "cell_type": "code",
   "execution_count": null,
   "metadata": {},
   "outputs": [],
   "source": [
    "%reload_ext yamlmagic\n",
    "%matplotlib inline"
   ]
  },
  {
   "cell_type": "code",
   "execution_count": null,
   "metadata": {},
   "outputs": [],
   "source": [
    "%%yaml\n",
    "inputs:\n",
    "    float1:\n",
    "        type : FloatSlider\n",
    "        value : 1.0\n",
    "        max : 10\n",
    "        description : Scale\n",
    "    float2:\n",
    "        type : FloatSlider\n",
    "        value : 1.0     \n",
    "        max : 2\n",
    "        description : Angle\n",
    "    button1:\n",
    "        type : Button  \n",
    "        click : ClickFun\n",
    "        description : Run ClickButton\n",
    "    button2:\n",
    "        type : Button  \n",
    "        click : ResetFun\n",
    "        description : Reset\n",
    "outputs:\n",
    "    out1 : \n",
    "        type: FigureWidget\n",
    "        module: plotly.graph_objects\n",
    "\n",
    "layout:\n",
    "    type: VBox\n",
    "    border: 1px solid\n",
    "    children:\n",
    "        float1:\n",
    "        float2:\n",
    "        button1:\n",
    "        out1:\n",
    "        button2:\n"
   ]
  },
  {
   "cell_type": "code",
   "execution_count": null,
   "metadata": {},
   "outputs": [],
   "source": [
    "def ResetFun(widget):\n",
    "    out1 = widget.outputs[\"out1\"]\n",
    "    out1.data = []\n",
    "    \n",
    "def ClickFun(widget):\n",
    "    n1 = widget.inputs[\"float1\"]\n",
    "    n2 = widget.inputs[\"float2\"]\n",
    "    out1 = widget.outputs[\"out1\"]\n",
    "    t = np.linspace(0, 10, 100)\n",
    "    y = n1.value * np.sin(n2.value*t)\n",
    "    out1.add_trace(\n",
    "        go.Scatter(x=t, y=y,\n",
    "                    mode='markers',\n",
    "                    name='n1:'+str(n1.value)+\", n2:\"+str(n2.value))\n",
    "    )\n",
    "s = WidgetConstructor(_)\n",
    "s.ResetFun = ResetFun\n",
    "s.ClickFun = ClickFun\n",
    "s.display()"
   ]
  },
  {
   "cell_type": "code",
   "execution_count": null,
   "metadata": {},
   "outputs": [],
   "source": []
  },
  {
   "cell_type": "code",
   "execution_count": null,
   "metadata": {},
   "outputs": [],
   "source": []
  },
  {
   "cell_type": "code",
   "execution_count": null,
   "metadata": {},
   "outputs": [],
   "source": []
  }
 ],
 "metadata": {
  "kernelspec": {
   "display_name": "Python 3",
   "language": "python",
   "name": "python3"
  },
  "language_info": {
   "codemirror_mode": {
    "name": "ipython",
    "version": 3
   },
   "file_extension": ".py",
   "mimetype": "text/x-python",
   "name": "python",
   "nbconvert_exporter": "python",
   "pygments_lexer": "ipython3",
   "version": "3.7.7"
  }
 },
 "nbformat": 4,
 "nbformat_minor": 2
}
